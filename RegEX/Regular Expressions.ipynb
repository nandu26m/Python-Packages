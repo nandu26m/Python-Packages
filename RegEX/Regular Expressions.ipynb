{
 "cells": [
  {
   "cell_type": "markdown",
   "metadata": {},
   "source": [
    "### Things to note"
   ]
  },
  {
   "cell_type": "raw",
   "metadata": {},
   "source": [
    "\"\\n\"  = Backslash followed by n denotes a new line\n",
    "\"\\t\"  = denotes a tab\n",
    "\"\\w\"  = matches alpha numeric characters [a-zA-Z0-9_]\n",
    "\"\\W\"  = opposite of \\w  ; so nothing in [a-zA-Z0-9_]\n",
    "\"\\s\"  = matches any whitespace charecter # New lines, tabs, spaces etc\n",
    "\"\\S\"  = matches any non-whitespace charecter #~\\s\n",
    "\"\\d\"  = matches digits [0-9]\n",
    "\"\\D\"  = matches this matches any non-digit character; ~\\d\n",
    "\n",
    "- r expression, that voids the python's special characters\n",
    "\n",
    "- r'n' means it's a raw string with two characters 'n' and '\\' as opposed to   just one special character\n",
    "\n",
    "Regular expressions are used to match string patterns.\n",
    "\n",
    "- They are very powerful\n",
    "- If you want to pull out a string pattern RE can do it"
   ]
  },
  {
   "cell_type": "code",
   "execution_count": 1,
   "metadata": {},
   "outputs": [
    {
     "data": {
      "text/plain": [
       "<re.Match object; span=(1, 2), match='n'>"
      ]
     },
     "execution_count": 1,
     "metadata": {},
     "output_type": "execute_result"
    }
   ],
   "source": [
    "import re\n",
    "re.search('n', '\\\\n') # First item is the pattern, and the second item is the string"
   ]
  },
  {
   "cell_type": "code",
   "execution_count": 2,
   "metadata": {},
   "outputs": [],
   "source": [
    "re.search('n', '\\n\\n\\n\\n\\n\\n\\n\\n\\n\\n\\n\\n\\n\\n') # Not the best way if we have too many \\s"
   ]
  },
  {
   "cell_type": "code",
   "execution_count": 3,
   "metadata": {},
   "outputs": [
    {
     "data": {
      "text/plain": [
       "<re.Match object; span=(1, 2), match='n'>"
      ]
     },
     "execution_count": 3,
     "metadata": {},
     "output_type": "execute_result"
    }
   ],
   "source": [
    "re.search('n', r'\\n\\n\\n\\n\\n\\n\\n\\n\\n\\n\\n\\n\\n\\n') # r converts to raw string"
   ]
  },
  {
   "cell_type": "code",
   "execution_count": 4,
   "metadata": {},
   "outputs": [
    {
     "data": {
      "text/plain": [
       "<re.Match object; span=(0, 1), match='\\n'>"
      ]
     },
     "execution_count": 4,
     "metadata": {},
     "output_type": "execute_result"
    }
   ],
   "source": [
    "# regular expression has its own special characters as well\n",
    "# regex with '\\n' and r'\\n' both look for new line\n",
    "\n",
    "re.search('\\n', '\\n\\n\\n\\n\\n\\n\\n\\n\\n\\n\\n\\n')"
   ]
  },
  {
   "cell_type": "code",
   "execution_count": 5,
   "metadata": {},
   "outputs": [
    {
     "data": {
      "text/plain": [
       "<re.Match object; span=(0, 1), match='\\n'>"
      ]
     },
     "execution_count": 5,
     "metadata": {},
     "output_type": "execute_result"
    }
   ],
   "source": [
    "re.search(r'\\n', '\\n\\n') # This also works as well because r'\\n' also looks for new line"
   ]
  },
  {
   "cell_type": "code",
   "execution_count": 6,
   "metadata": {},
   "outputs": [],
   "source": [
    "# doesn't work because string doesn't use newline and r'\\n' looks for new line\n",
    "\n",
    "re.search(r'\\n', r'\\n\\n')"
   ]
  },
  {
   "cell_type": "markdown",
   "metadata": {},
   "source": [
    "## MATCH AND SEARCH"
   ]
  },
  {
   "cell_type": "raw",
   "metadata": {},
   "source": [
    "REs common methods \"Match\" and \"Search\"\n",
    "\n",
    "re.search(pattern, string, flags)   # searches anyware in the sentence\n",
    "                                    # flage special options\n",
    "    \n",
    "re.match(pattern, string, flags)    # only beginning of the string"
   ]
  },
  {
   "cell_type": "markdown",
   "metadata": {},
   "source": [
    "#### Examples"
   ]
  },
  {
   "cell_type": "code",
   "execution_count": 7,
   "metadata": {},
   "outputs": [],
   "source": [
    "re.match(\"c\", \"abcdef\") # returns none because only looks at the start of the string"
   ]
  },
  {
   "cell_type": "code",
   "execution_count": 8,
   "metadata": {},
   "outputs": [
    {
     "data": {
      "text/plain": [
       "False"
      ]
     },
     "execution_count": 8,
     "metadata": {},
     "output_type": "execute_result"
    }
   ],
   "source": [
    "bool(re.match(\"c\", \"abcdef\")) # No match then returns boolean False"
   ]
  },
  {
   "cell_type": "code",
   "execution_count": 9,
   "metadata": {},
   "outputs": [
    {
     "data": {
      "text/plain": [
       "True"
      ]
     },
     "execution_count": 9,
     "metadata": {},
     "output_type": "execute_result"
    }
   ],
   "source": [
    "bool(re.match(\"a\", \"abcdef\")) # match returns True"
   ]
  },
  {
   "cell_type": "code",
   "execution_count": 10,
   "metadata": {},
   "outputs": [
    {
     "data": {
      "text/plain": [
       "<re.Match object; span=(2, 3), match='c'>"
      ]
     },
     "execution_count": 10,
     "metadata": {},
     "output_type": "execute_result"
    }
   ],
   "source": [
    "re.search(\"c\", \"abcdef\") # search anywhere"
   ]
  },
  {
   "cell_type": "code",
   "execution_count": 11,
   "metadata": {},
   "outputs": [
    {
     "data": {
      "text/plain": [
       "<re.Match object; span=(2, 3), match='c'>"
      ]
     },
     "execution_count": 11,
     "metadata": {},
     "output_type": "execute_result"
    }
   ],
   "source": [
    "re.search(\"c\", \"abcdef\") # tels you where it matched first and only first"
   ]
  },
  {
   "cell_type": "code",
   "execution_count": 12,
   "metadata": {},
   "outputs": [
    {
     "data": {
      "text/plain": [
       "<re.Match object; span=(2, 3), match='c'>"
      ]
     },
     "execution_count": 12,
     "metadata": {},
     "output_type": "execute_result"
    }
   ],
   "source": [
    "re.search(\"c\", \"abcdefc\") # multiple c's first instance only"
   ]
  },
  {
   "cell_type": "code",
   "execution_count": 13,
   "metadata": {},
   "outputs": [
    {
     "data": {
      "text/plain": [
       "<re.Match object; span=(6, 7), match='c'>"
      ]
     },
     "execution_count": 13,
     "metadata": {},
     "output_type": "execute_result"
    }
   ],
   "source": [
    "re.search(\"c\", \"abdef\\nc\") # multiple line sworks with search"
   ]
  },
  {
   "cell_type": "code",
   "execution_count": 14,
   "metadata": {},
   "outputs": [],
   "source": [
    "re.match(\"c\", \"abcdef\\nc\") # match doesn't work with newline"
   ]
  },
  {
   "cell_type": "markdown",
   "metadata": {},
   "source": [
    "## Printhing the output of Match and Search"
   ]
  },
  {
   "cell_type": "code",
   "execution_count": 15,
   "metadata": {},
   "outputs": [
    {
     "data": {
      "text/plain": [
       "<re.Match object; span=(0, 1), match='a'>"
      ]
     },
     "execution_count": 15,
     "metadata": {},
     "output_type": "execute_result"
    }
   ],
   "source": [
    "re.match(\"a\", \"abcdef\") # match objects"
   ]
  },
  {
   "cell_type": "code",
   "execution_count": 16,
   "metadata": {},
   "outputs": [
    {
     "data": {
      "text/plain": [
       "'a'"
      ]
     },
     "execution_count": 16,
     "metadata": {},
     "output_type": "execute_result"
    }
   ],
   "source": [
    "re.match(\"a\", \"abcdef\").group() # string output default value is 0"
   ]
  },
  {
   "cell_type": "code",
   "execution_count": 17,
   "metadata": {},
   "outputs": [
    {
     "data": {
      "text/plain": [
       "'a'"
      ]
     },
     "execution_count": 17,
     "metadata": {},
     "output_type": "execute_result"
    }
   ],
   "source": [
    "re.match(\"a\", \"abcdef\").group(0)"
   ]
  },
  {
   "cell_type": "code",
   "execution_count": 18,
   "metadata": {},
   "outputs": [
    {
     "data": {
      "text/plain": [
       "'a'"
      ]
     },
     "execution_count": 18,
     "metadata": {},
     "output_type": "execute_result"
    }
   ],
   "source": [
    "re.search(\"a\", \"abcdef\").group() # also works with search "
   ]
  },
  {
   "cell_type": "code",
   "execution_count": 19,
   "metadata": {},
   "outputs": [
    {
     "data": {
      "text/plain": [
       "'nc abcd'"
      ]
     },
     "execution_count": 19,
     "metadata": {},
     "output_type": "execute_result"
    }
   ],
   "source": [
    "re.search('n.+', 'abcdefnc abcd').group() # pull out different types of strings"
   ]
  },
  {
   "cell_type": "code",
   "execution_count": 20,
   "metadata": {},
   "outputs": [
    {
     "data": {
      "text/plain": [
       "2"
      ]
     },
     "execution_count": 20,
     "metadata": {},
     "output_type": "execute_result"
    }
   ],
   "source": [
    "re.search(\"c\", \"abcdef\\nc\").start() # gives the starting index"
   ]
  },
  {
   "cell_type": "code",
   "execution_count": 21,
   "metadata": {},
   "outputs": [
    {
     "data": {
      "text/plain": [
       "3"
      ]
     },
     "execution_count": 21,
     "metadata": {},
     "output_type": "execute_result"
    }
   ],
   "source": [
    "re.search(\"c\", \"abcdef\\nc\").end() # gives the ending index"
   ]
  },
  {
   "cell_type": "markdown",
   "metadata": {},
   "source": [
    "## LITERAL MATCHING"
   ]
  },
  {
   "cell_type": "code",
   "execution_count": 22,
   "metadata": {},
   "outputs": [],
   "source": [
    "re.search(\"na\", \"abcdefnc abcd\") # doesn't work because they are ordered"
   ]
  },
  {
   "cell_type": "code",
   "execution_count": 23,
   "metadata": {},
   "outputs": [
    {
     "data": {
      "text/plain": [
       "<re.Match object; span=(0, 1), match='a'>"
      ]
     },
     "execution_count": 23,
     "metadata": {},
     "output_type": "execute_result"
    }
   ],
   "source": [
    "re.search(\"n|a\", \"abcdefnc abcda\") # n or a"
   ]
  },
  {
   "cell_type": "code",
   "execution_count": 24,
   "metadata": {},
   "outputs": [
    {
     "data": {
      "text/plain": [
       "<re.Match object; span=(5, 6), match='n'>"
      ]
     },
     "execution_count": 24,
     "metadata": {},
     "output_type": "execute_result"
    }
   ],
   "source": [
    "re.search(\"n|a\", \"bcdefnc abcda\") # "
   ]
  },
  {
   "cell_type": "code",
   "execution_count": 25,
   "metadata": {},
   "outputs": [
    {
     "data": {
      "text/plain": [
       "<re.Match object; span=(0, 1), match='a'>"
      ]
     },
     "execution_count": 25,
     "metadata": {},
     "output_type": "execute_result"
    }
   ],
   "source": [
    "re.search(\"n|a|b\", \"abcdefnc abcda\") # as many OR expressions"
   ]
  },
  {
   "cell_type": "markdown",
   "metadata": {},
   "source": [
    "### re.findall"
   ]
  },
  {
   "cell_type": "code",
   "execution_count": 26,
   "metadata": {},
   "outputs": [
    {
     "data": {
      "text/plain": [
       "['a', 'n', 'a', 'a']"
      ]
     },
     "execution_count": 26,
     "metadata": {},
     "output_type": "execute_result"
    }
   ],
   "source": [
    "re.findall(\"n|a\", \"abcdefnc abcda\") # findall pulls out all instances"
   ]
  },
  {
   "cell_type": "code",
   "execution_count": 27,
   "metadata": {},
   "outputs": [
    {
     "data": {
      "text/plain": [
       "<re.Match object; span=(0, 4), match='abcd'>"
      ]
     },
     "execution_count": 27,
     "metadata": {},
     "output_type": "execute_result"
    }
   ],
   "source": [
    "re.search(\"abcd\", \"abcdefnc abcd\") # multiple characters - literal search"
   ]
  },
  {
   "cell_type": "code",
   "execution_count": 28,
   "metadata": {},
   "outputs": [
    {
     "data": {
      "text/plain": [
       "'abcd'"
      ]
     },
     "execution_count": 28,
     "metadata": {},
     "output_type": "execute_result"
    }
   ],
   "source": [
    "re.search(\"abcd\", \"abcdefnc abcd\").group()"
   ]
  },
  {
   "cell_type": "code",
   "execution_count": 29,
   "metadata": {},
   "outputs": [
    {
     "data": {
      "text/plain": [
       "['abcd', 'abcd']"
      ]
     },
     "execution_count": 29,
     "metadata": {},
     "output_type": "execute_result"
    }
   ],
   "source": [
    "re.findall(\"abcd\", \"abcdefnc abcd\")"
   ]
  },
  {
   "cell_type": "markdown",
   "metadata": {},
   "source": [
    "## CHARACTER SETS"
   ]
  },
  {
   "cell_type": "raw",
   "metadata": {},
   "source": [
    "Character sets can match a set of characters"
   ]
  },
  {
   "cell_type": "code",
   "execution_count": 30,
   "metadata": {},
   "outputs": [
    {
     "data": {
      "text/plain": [
       "<re.Match object; span=(0, 4), match='abcd'>"
      ]
     },
     "execution_count": 30,
     "metadata": {},
     "output_type": "execute_result"
    }
   ],
   "source": [
    "re.search(\"abcd\", \"abcdefnc abcd\") # earlier code"
   ]
  },
  {
   "cell_type": "code",
   "execution_count": 31,
   "metadata": {},
   "outputs": [
    {
     "data": {
      "text/plain": [
       "'abcd'"
      ]
     },
     "execution_count": 31,
     "metadata": {},
     "output_type": "execute_result"
    }
   ],
   "source": [
    "re.search(r'\\w\\w\\w\\w', 'abcdefnc abcd').group() # matches characters and numbers\n",
    "                                    "
   ]
  },
  {
   "cell_type": "raw",
   "metadata": {},
   "source": [
    "\"\\w\"  = matches alpha numeric characters [a-zA-Z0-9_]\n",
    "\"\\W\"  = opposite of \\w  ; so nothing in [a-zA-Z0-9_]\n",
    "\"\\s\"  = matches any whitespace charecter, Ex: New lines, tabs, spaces etc\n",
    "\"\\S\"  = matches any non-whitespace charecter, Ex: ~\\s\n",
    "\"\\d\"  = matches digits [0-9]\n",
    "\"\\D\"  = matches this matches any non-digit character; ~\\d\n",
    "\"\\n\"  = Backslash followed by n denotes a new line\n",
    "\"\\t\"  = denotes a tab"
   ]
  },
  {
   "cell_type": "code",
   "execution_count": 32,
   "metadata": {},
   "outputs": [
    {
     "data": {
      "text/plain": [
       "<re.Match object; span=(0, 4), match='ab_c'>"
      ]
     },
     "execution_count": 32,
     "metadata": {},
     "output_type": "execute_result"
    }
   ],
   "source": [
    "re.search(r'\\w\\w\\w\\w', 'ab_cdefnc abcd') # matches \"_\" character"
   ]
  },
  {
   "cell_type": "code",
   "execution_count": 33,
   "metadata": {},
   "outputs": [],
   "source": [
    "re.search(r'\\w\\w\\w', 'a3.!-!') # doesn't match symbols only numbers and characters"
   ]
  },
  {
   "cell_type": "code",
   "execution_count": 34,
   "metadata": {},
   "outputs": [
    {
     "data": {
      "text/plain": [
       "'a33'"
      ]
     },
     "execution_count": 34,
     "metadata": {},
     "output_type": "execute_result"
    }
   ],
   "source": [
    "re.search(r'\\w\\w\\w', 'a33.!-!').group()"
   ]
  },
  {
   "cell_type": "code",
   "execution_count": 35,
   "metadata": {},
   "outputs": [
    {
     "data": {
      "text/plain": [
       "<re.Match object; span=(0, 3), match='a3.'>"
      ]
     },
     "execution_count": 35,
     "metadata": {},
     "output_type": "execute_result"
    }
   ],
   "source": [
    "re.search(r'\\w\\w\\W', 'a3.!-!') # \\W matches non characters and numbers"
   ]
  },
  {
   "cell_type": "code",
   "execution_count": 36,
   "metadata": {},
   "outputs": [
    {
     "data": {
      "text/plain": [
       "'a3 .'"
      ]
     },
     "execution_count": 36,
     "metadata": {},
     "output_type": "execute_result"
    }
   ],
   "source": [
    "re.search(r'\\w\\w\\W\\W', 'a3 .!-!').group() # matches empty spaces as well"
   ]
  },
  {
   "cell_type": "markdown",
   "metadata": {},
   "source": [
    "## QUANTIFIERS"
   ]
  },
  {
   "cell_type": "raw",
   "metadata": {},
   "source": [
    "# quantifiers\n",
    "'+'     = 1 or more\n",
    "'?'     = 0 or 1\n",
    "'*'     = 0 or more\n",
    "'{n,m}' = n to m repetitions {,3}, {3,}"
   ]
  },
  {
   "cell_type": "code",
   "execution_count": 37,
   "metadata": {},
   "outputs": [
    {
     "data": {
      "text/plain": [
       "'abcdefnc'"
      ]
     },
     "execution_count": 37,
     "metadata": {},
     "output_type": "execute_result"
    }
   ],
   "source": [
    "re.search(r'\\w+', 'abcdefnc abcd').group()"
   ]
  },
  {
   "cell_type": "code",
   "execution_count": 38,
   "metadata": {},
   "outputs": [
    {
     "data": {
      "text/plain": [
       "'abcdefnc abcd'"
      ]
     },
     "execution_count": 38,
     "metadata": {},
     "output_type": "execute_result"
    }
   ],
   "source": [
    "re.search(r'\\w+\\W+\\w+', 'abcdefnc abcd').group() # to pull out everything"
   ]
  },
  {
   "cell_type": "code",
   "execution_count": 39,
   "metadata": {},
   "outputs": [
    {
     "data": {
      "text/plain": [
       "'abcdefnc          abcd'"
      ]
     },
     "execution_count": 39,
     "metadata": {},
     "output_type": "execute_result"
    }
   ],
   "source": [
    "re.search(r'\\w+\\W+\\w+', 'abcdefnc          abcd').group() # added more spaces"
   ]
  },
  {
   "cell_type": "code",
   "execution_count": 40,
   "metadata": {},
   "outputs": [
    {
     "data": {
      "text/plain": [
       "'abcdefncabcd'"
      ]
     },
     "execution_count": 40,
     "metadata": {},
     "output_type": "execute_result"
    }
   ],
   "source": [
    "re.search(r'\\w+\\W?\\w+', 'abcdefncabcd').group() # ? - 0 or 1 instances"
   ]
  },
  {
   "cell_type": "code",
   "execution_count": 41,
   "metadata": {},
   "outputs": [
    {
     "data": {
      "text/plain": [
       "'abcdefnc abcd'"
      ]
     },
     "execution_count": 41,
     "metadata": {},
     "output_type": "execute_result"
    }
   ],
   "source": [
    "re.search(r'\\w+\\W?\\w+', 'abcdefnc abcd').group()"
   ]
  },
  {
   "cell_type": "code",
   "execution_count": 42,
   "metadata": {},
   "outputs": [],
   "source": [
    "re.search(r'\\w+\\W+\\w+', 'abcdefncabcd') # not works"
   ]
  },
  {
   "cell_type": "raw",
   "metadata": {},
   "source": [
    "Pulling out specific amounts"
   ]
  },
  {
   "cell_type": "code",
   "execution_count": 43,
   "metadata": {},
   "outputs": [
    {
     "data": {
      "text/plain": [
       "<re.Match object; span=(0, 3), match='aaa'>"
      ]
     },
     "execution_count": 43,
     "metadata": {},
     "output_type": "execute_result"
    }
   ],
   "source": [
    "re.search(r'\\w{3}', 'aaaaaaaaaaa') # only 3 \\w values"
   ]
  },
  {
   "cell_type": "code",
   "execution_count": 44,
   "metadata": {},
   "outputs": [
    {
     "data": {
      "text/plain": [
       "'aaaa'"
      ]
     },
     "execution_count": 44,
     "metadata": {},
     "output_type": "execute_result"
    }
   ],
   "source": [
    "re.search(r'\\w{1,4}', 'aaaaaaaaaaa').group() # 1 is min, 4 is max"
   ]
  },
  {
   "cell_type": "code",
   "execution_count": 45,
   "metadata": {},
   "outputs": [
    {
     "data": {
      "text/plain": [
       "'abcdefnc abcd'"
      ]
     },
     "execution_count": 45,
     "metadata": {},
     "output_type": "execute_result"
    }
   ],
   "source": [
    "re.search(r'\\w{1,10}\\W{0,4}\\w+', 'abcdefnc abcd').group() # 1-10 \\w characters\n",
    "                                                          # 0-4  \\W characters\n",
    "                                                          # 1+   \\w characters"
   ]
  },
  {
   "cell_type": "code",
   "execution_count": 46,
   "metadata": {},
   "outputs": [
    {
     "data": {
      "text/plain": [
       "'abcdefnc abcd'"
      ]
     },
     "execution_count": 46,
     "metadata": {},
     "output_type": "execute_result"
    }
   ],
   "source": [
    "re.search(r'\\w{1,}\\W{0,}\\w+', 'abcdefnc abcd').group()    # at least 1 \\w characters\n",
    "                                                          # at least 0 \\W characters\n",
    "                                                          # 1 or more \\w characters"
   ]
  },
  {
   "cell_type": "markdown",
   "metadata": {},
   "source": [
    "## OTHER TYPES OF CHARACTER SETS"
   ]
  },
  {
   "cell_type": "raw",
   "metadata": {},
   "source": [
    "'\\d'  =  matches digits [0-9]\n",
    "'\\D'  =  matches this matches any non-digit character; ~\\d"
   ]
  },
  {
   "cell_type": "code",
   "execution_count": 47,
   "metadata": {},
   "outputs": [
    {
     "data": {
      "text/plain": [
       "'23'"
      ]
     },
     "execution_count": 47,
     "metadata": {},
     "output_type": "execute_result"
    }
   ],
   "source": [
    "string = '23sfghefghrw++'\n",
    "re.search('\\d+', string).group()"
   ]
  },
  {
   "cell_type": "raw",
   "metadata": {},
   "source": [
    "'\\s'  = matches any whitespace charecter # New lines, tabs, spaces etc\n",
    "'\\S'  = matches any non-whitespace charecter #~\\s"
   ]
  },
  {
   "cell_type": "code",
   "execution_count": 48,
   "metadata": {},
   "outputs": [
    {
     "data": {
      "text/plain": [
       "'23sfghefghrw++'"
      ]
     },
     "execution_count": 48,
     "metadata": {},
     "output_type": "execute_result"
    }
   ],
   "source": [
    "string = '23sfghefghrw++'\n",
    "re.search('\\S+', string).group()  # No spaces"
   ]
  },
  {
   "cell_type": "code",
   "execution_count": 49,
   "metadata": {},
   "outputs": [
    {
     "name": "stdout",
     "output_type": "stream",
     "text": [
      "This project aims to detect Alzheimer’s Disease from the MRI scans ( in .nii extension) given as input. It involves several pre-processing steps such as skull stripping, bias correction and segmentation. Once the segmentation is completed, three 2D slices (axial, coronnal, saggital) are extracted from the segmented MRI Image. In this manner the dataset is prepared which is then used for training a simple CNN. Here, the problem is approached in two methods. One method is to prepare a single dataset wherein the axial,coronnal and saggital images are present within each class which is then fed into a single classifier. Another method is to prepare three datasets (each contain only one kind of data) which is then fed into three classifiers (Axial, Coronnal and Saggital). When compared, it was observed that the combined classifier(Axial,Coronnal,Saggital- 95%) has more accuracy than the single classifier (86%).\n"
     ]
    }
   ],
   "source": [
    "string = 'This project aims to detect Alzheimer’s Disease from the MRI scans ( in .nii extension) given as input. It involves several pre-processing steps such as skull stripping, bias correction and segmentation. Once the segmentation is completed, three 2D slices (axial, coronnal, saggital) are extracted from the segmented MRI Image. In this manner the dataset is prepared which is then used for training a simple CNN. Here, the problem is approached in two methods. One method is to prepare a single dataset wherein the axial,coronnal and saggital images are present within each class which is then fed into a single classifier. Another method is to prepare three datasets (each contain only one kind of data) which is then fed into three classifiers (Axial, Coronnal and Saggital). When compared, it was observed that the combined classifier(Axial,Coronnal,Saggital- 95%) has more accuracy than the single classifier (86%).'\n",
    "print(string)"
   ]
  },
  {
   "cell_type": "code",
   "execution_count": 50,
   "metadata": {},
   "outputs": [
    {
     "data": {
      "text/plain": [
       "['This',\n",
       " 'project',\n",
       " 'aims',\n",
       " 'to',\n",
       " 'detect',\n",
       " 'Alzheimer’s',\n",
       " 'Disease',\n",
       " 'from',\n",
       " 'the',\n",
       " 'MRI',\n",
       " 'scans',\n",
       " '(',\n",
       " 'in',\n",
       " '.nii',\n",
       " 'extension)',\n",
       " 'given',\n",
       " 'as',\n",
       " 'input.',\n",
       " 'It',\n",
       " 'involves',\n",
       " 'several',\n",
       " 'pre-processing',\n",
       " 'steps',\n",
       " 'such',\n",
       " 'as',\n",
       " 'skull',\n",
       " 'stripping,',\n",
       " 'bias',\n",
       " 'correction',\n",
       " 'and',\n",
       " 'segmentation.',\n",
       " 'Once',\n",
       " 'the',\n",
       " 'segmentation',\n",
       " 'is',\n",
       " 'completed,',\n",
       " 'three',\n",
       " '2D',\n",
       " 'slices',\n",
       " '(axial,',\n",
       " 'coronnal,',\n",
       " 'saggital)',\n",
       " 'are',\n",
       " 'extracted',\n",
       " 'from',\n",
       " 'the',\n",
       " 'segmented',\n",
       " 'MRI',\n",
       " 'Image.',\n",
       " 'In',\n",
       " 'this',\n",
       " 'manner',\n",
       " 'the',\n",
       " 'dataset',\n",
       " 'is',\n",
       " 'prepared',\n",
       " 'which',\n",
       " 'is',\n",
       " 'then',\n",
       " 'used',\n",
       " 'for',\n",
       " 'training',\n",
       " 'a',\n",
       " 'simple',\n",
       " 'CNN.',\n",
       " 'Here,',\n",
       " 'the',\n",
       " 'problem',\n",
       " 'is',\n",
       " 'approached',\n",
       " 'in',\n",
       " 'two',\n",
       " 'methods.',\n",
       " 'One',\n",
       " 'method',\n",
       " 'is',\n",
       " 'to',\n",
       " 'prepare',\n",
       " 'a',\n",
       " 'single',\n",
       " 'dataset',\n",
       " 'wherein',\n",
       " 'the',\n",
       " 'axial,coronnal',\n",
       " 'and',\n",
       " 'saggital',\n",
       " 'images',\n",
       " 'are',\n",
       " 'present',\n",
       " 'within',\n",
       " 'each',\n",
       " 'class',\n",
       " 'which',\n",
       " 'is',\n",
       " 'then',\n",
       " 'fed',\n",
       " 'into',\n",
       " 'a',\n",
       " 'single',\n",
       " 'classifier.',\n",
       " 'Another',\n",
       " 'method',\n",
       " 'is',\n",
       " 'to',\n",
       " 'prepare',\n",
       " 'three',\n",
       " 'datasets',\n",
       " '(each',\n",
       " 'contain',\n",
       " 'only',\n",
       " 'one',\n",
       " 'kind',\n",
       " 'of',\n",
       " 'data)',\n",
       " 'which',\n",
       " 'is',\n",
       " 'then',\n",
       " 'fed',\n",
       " 'into',\n",
       " 'three',\n",
       " 'classifiers',\n",
       " '(Axial,',\n",
       " 'Coronnal',\n",
       " 'and',\n",
       " 'Saggital).',\n",
       " 'When',\n",
       " 'compared,',\n",
       " 'it',\n",
       " 'was',\n",
       " 'observed',\n",
       " 'that',\n",
       " 'the',\n",
       " 'combined',\n",
       " 'classifier(Axial,Coronnal,Saggital-',\n",
       " '95%)',\n",
       " 'has',\n",
       " 'more',\n",
       " 'accuracy',\n",
       " 'than',\n",
       " 'the',\n",
       " 'single',\n",
       " 'classifier',\n",
       " '(86%).']"
      ]
     },
     "execution_count": 50,
     "metadata": {},
     "output_type": "execute_result"
    }
   ],
   "source": [
    "# To extract all the words from the string to a list.\n",
    "re.findall('\\S+', string)"
   ]
  },
  {
   "cell_type": "code",
   "execution_count": 51,
   "metadata": {},
   "outputs": [
    {
     "data": {
      "text/plain": [
       "'This project aims to detect Alzheimer’s Disease from the MRI scans ( in .nii extension) given as input. It involves several pre-processing steps such as skull stripping, bias correction and segmentation. Once the segmentation is completed, three 2D slices (axial, coronnal, saggital) are extracted from the segmented MRI Image. In this manner the dataset is prepared which is then used for training a simple CNN. Here, the problem is approached in two methods. One method is to prepare a single dataset wherein the axial,coronnal and saggital images are present within each class which is then fed into a single classifier. Another method is to prepare three datasets (each contain only one kind of data) which is then fed into three classifiers (Axial, Coronnal and Saggital). When compared, it was observed that the combined classifier(Axial,Coronnal,Saggital- 95%) has more accuracy than the single classifier (86%).'"
      ]
     },
     "execution_count": 51,
     "metadata": {},
     "output_type": "execute_result"
    }
   ],
   "source": [
    "# To join every words\n",
    "' '.join(re.findall('\\S+', string))"
   ]
  },
  {
   "cell_type": "raw",
   "metadata": {},
   "source": [
    ". the dot matches any character except the new line'"
   ]
  },
  {
   "cell_type": "code",
   "execution_count": 52,
   "metadata": {},
   "outputs": [],
   "source": [
    "string = \"\"\"This project aims to detect Alzheimer’s Disease from the MRI scans ( in .nii extension) given as input. \n",
    "It involves several pre-processing steps such as skull stripping, bias correction and segmentation. \n",
    "Once the segmentation is completed, three 2D slices (axial, coronnal, saggital) are extracted from the segmented MRI Image. \n",
    "In this manner the dataset is prepared which is then used for training a simple CNN. Here, the problem is approached in two methods. \n",
    "One method is to prepare a single dataset wherein the axial,coronnal and saggital images are present within each class which is then fed into a single classifier. \n",
    "Another method is to prepare three datasets (each contain only one kind of data) which is then fed into three classifiers (Axial, Coronnal and Saggital). \n",
    "When compared, it was observed that the combined classifier(Axial,Coronnal,Saggital- 95%) has more accuracy than the single classifier (86%).\"\"\"\n"
   ]
  },
  {
   "cell_type": "code",
   "execution_count": 53,
   "metadata": {},
   "outputs": [
    {
     "data": {
      "text/plain": [
       "'This project aims to detect Alzheimer’s Disease from the MRI scans ( in .nii extension) given as input. '"
      ]
     },
     "execution_count": 53,
     "metadata": {},
     "output_type": "execute_result"
    }
   ],
   "source": [
    "re.search('.+', string).group() # no new line (Only get the first line of the paragraph)"
   ]
  },
  {
   "cell_type": "code",
   "execution_count": 54,
   "metadata": {},
   "outputs": [
    {
     "data": {
      "text/plain": [
       "'This project aims to detect Alzheimer’s Disease from the MRI scans ( in .nii extension) given as input. \\nIt involves several pre-processing steps such as skull stripping, bias correction and segmentation. \\nOnce the segmentation is completed, three 2D slices (axial, coronnal, saggital) are extracted from the segmented MRI Image. \\nIn this manner the dataset is prepared which is then used for training a simple CNN. Here, the problem is approached in two methods. \\nOne method is to prepare a single dataset wherein the axial,coronnal and saggital images are present within each class which is then fed into a single classifier. \\nAnother method is to prepare three datasets (each contain only one kind of data) which is then fed into three classifiers (Axial, Coronnal and Saggital). \\nWhen compared, it was observed that the combined classifier(Axial,Coronnal,Saggital- 95%) has more accuracy than the single classifier (86%).'"
      ]
     },
     "execution_count": 54,
     "metadata": {},
     "output_type": "execute_result"
    }
   ],
   "source": [
    "re.search('.+', string, flags = re.DOTALL).group() # get all lines with '\\n' seperation"
   ]
  },
  {
   "cell_type": "markdown",
   "metadata": {},
   "source": [
    "## CREATING YOUR OWN CHARACTER SETS"
   ]
  },
  {
   "cell_type": "raw",
   "metadata": {},
   "source": [
    "[A-Z]  '-' is a metacharacter when used in [] (custom character sets)"
   ]
  },
  {
   "cell_type": "code",
   "execution_count": 55,
   "metadata": {},
   "outputs": [],
   "source": [
    "string = 'Hello, There, How, Are, You'"
   ]
  },
  {
   "cell_type": "code",
   "execution_count": 56,
   "metadata": {},
   "outputs": [
    {
     "data": {
      "text/plain": [
       "['H', 'T', 'H', 'A', 'Y']"
      ]
     },
     "execution_count": 56,
     "metadata": {},
     "output_type": "execute_result"
    }
   ],
   "source": [
    "re.findall('[A-Z]', string) # pull out all capital letters\n"
   ]
  },
  {
   "cell_type": "code",
   "execution_count": 57,
   "metadata": {},
   "outputs": [
    {
     "data": {
      "text/plain": [
       "['H', ',', 'T', ',', 'H', ',', 'A', ',', 'Y']"
      ]
     },
     "execution_count": 57,
     "metadata": {},
     "output_type": "execute_result"
    }
   ],
   "source": [
    "re.findall('[A-Z,]', string) # here we search for any capital letters or a comma."
   ]
  },
  {
   "cell_type": "code",
   "execution_count": 58,
   "metadata": {},
   "outputs": [
    {
     "data": {
      "text/plain": [
       "['H', ',', 'T', ',', 'H', ',', 'A', ',', 'Y', '.', '.', '.']"
      ]
     },
     "execution_count": 58,
     "metadata": {},
     "output_type": "execute_result"
    }
   ],
   "source": [
    "string = 'Hello, There, How, Are, You...'\n",
    "re.findall('[A-Z,.]', string)"
   ]
  },
  {
   "cell_type": "code",
   "execution_count": 59,
   "metadata": {},
   "outputs": [
    {
     "data": {
      "text/plain": [
       "['H',\n",
       " 'e',\n",
       " 'l',\n",
       " 'l',\n",
       " 'o',\n",
       " ',',\n",
       " ' ',\n",
       " 'T',\n",
       " 'h',\n",
       " 'e',\n",
       " 'r',\n",
       " 'e',\n",
       " ',',\n",
       " ' ',\n",
       " 'H',\n",
       " 'o',\n",
       " 'w',\n",
       " ',',\n",
       " ' ',\n",
       " 'A',\n",
       " 'r',\n",
       " 'e',\n",
       " ',',\n",
       " ' ',\n",
       " 'Y',\n",
       " 'o',\n",
       " 'u',\n",
       " '.',\n",
       " '.',\n",
       " '.']"
      ]
     },
     "execution_count": 59,
     "metadata": {},
     "output_type": "execute_result"
    }
   ],
   "source": [
    "string = 'Hello, There, How, Are, You...'\n",
    "re.findall('[A-Za-z,\\s.]', string)"
   ]
  },
  {
   "cell_type": "markdown",
   "metadata": {},
   "source": [
    "## QUANTIFIERS WITH CUSTOM SETS"
   ]
  },
  {
   "cell_type": "raw",
   "metadata": {},
   "source": [
    "+ - or more(as many as can)\n",
    "? - optional(either zero or one)\n",
    "*\n",
    "{} - for limit"
   ]
  },
  {
   "cell_type": "code",
   "execution_count": 60,
   "metadata": {},
   "outputs": [],
   "source": [
    "string = 'HELLO, There, How, Are, You...'"
   ]
  },
  {
   "cell_type": "code",
   "execution_count": 61,
   "metadata": {},
   "outputs": [
    {
     "data": {
      "text/plain": [
       "['HELLO', 'T', 'H', 'A', 'Y']"
      ]
     },
     "execution_count": 61,
     "metadata": {},
     "output_type": "execute_result"
    }
   ],
   "source": [
    "re.findall('[A-Z]+', string)"
   ]
  },
  {
   "cell_type": "code",
   "execution_count": 62,
   "metadata": {},
   "outputs": [
    {
     "data": {
      "text/plain": [
       "['HELLO']"
      ]
     },
     "execution_count": 62,
     "metadata": {},
     "output_type": "execute_result"
    }
   ],
   "source": [
    "re.findall('[A-Z]{2,}', string) # 2 or more capital letters"
   ]
  },
  {
   "cell_type": "code",
   "execution_count": 63,
   "metadata": {},
   "outputs": [
    {
     "data": {
      "text/plain": [
       "'HELLO, There, How, Are, You'"
      ]
     },
     "execution_count": 63,
     "metadata": {},
     "output_type": "execute_result"
    }
   ],
   "source": [
    "re.search('[A-Za-z\\s,]+', string).group()"
   ]
  },
  {
   "cell_type": "code",
   "execution_count": 64,
   "metadata": {},
   "outputs": [
    {
     "data": {
      "text/plain": [
       "['O, ', 'There, ', 'How, ', 'Are, ', 'You']"
      ]
     },
     "execution_count": 64,
     "metadata": {},
     "output_type": "execute_result"
    }
   ],
   "source": [
    "re.findall('[A-Z]?[a-z\\s,]+', string) #@@@@@@@@"
   ]
  },
  {
   "cell_type": "code",
   "execution_count": 65,
   "metadata": {},
   "outputs": [
    {
     "data": {
      "text/plain": [
       "'...'"
      ]
     },
     "execution_count": 65,
     "metadata": {},
     "output_type": "execute_result"
    }
   ],
   "source": [
    "re.search('[^A-Za-z\\s,]+', string).group() # ^ is a metacharacter within brackets ( ^ - not)"
   ]
  },
  {
   "cell_type": "code",
   "execution_count": 66,
   "metadata": {},
   "outputs": [
    {
     "data": {
      "text/plain": [
       "[', ', 'here, ', 'ow, ', 're, ', 'ou...']"
      ]
     },
     "execution_count": 66,
     "metadata": {},
     "output_type": "execute_result"
    }
   ],
   "source": [
    "re.findall('[^A-Z]+', string) # to get all non capital letter objects"
   ]
  },
  {
   "cell_type": "markdown",
   "metadata": {},
   "source": [
    "## GROUPS"
   ]
  },
  {
   "cell_type": "raw",
   "metadata": {},
   "source": [
    "Group allo us to pull out sections of a match and store them"
   ]
  },
  {
   "cell_type": "code",
   "execution_count": 67,
   "metadata": {},
   "outputs": [],
   "source": [
    "# Contrived example\n",
    "import re\n",
    "string = 'John has 6 cats but I think my friend Susan has 3 dogs and Mike has 8 fishes'"
   ]
  },
  {
   "cell_type": "code",
   "execution_count": 68,
   "metadata": {},
   "outputs": [
    {
     "data": {
      "text/plain": [
       "['John has 6 cats', 'Susan has 3 dogs', 'Mike has 8 fishes']"
      ]
     },
     "execution_count": 68,
     "metadata": {},
     "output_type": "execute_result"
    }
   ],
   "source": [
    "re.findall('[A-Za-z]+ \\w+ \\d+ \\w+', string)"
   ]
  },
  {
   "cell_type": "raw",
   "metadata": {},
   "source": [
    "the use of brackets denotes a group\n",
    "() = Metacharacter"
   ]
  },
  {
   "cell_type": "code",
   "execution_count": 69,
   "metadata": {},
   "outputs": [],
   "source": [
    "# Group example Starts here"
   ]
  },
  {
   "cell_type": "code",
   "execution_count": 70,
   "metadata": {},
   "outputs": [
    {
     "data": {
      "text/plain": [
       "['John', 'Susan', 'Mike']"
      ]
     },
     "execution_count": 70,
     "metadata": {},
     "output_type": "execute_result"
    }
   ],
   "source": [
    " re.findall('([A-Za-z]+) \\w+ \\d+ \\w+', string) # To pull out just the names"
   ]
  },
  {
   "cell_type": "code",
   "execution_count": 71,
   "metadata": {},
   "outputs": [
    {
     "data": {
      "text/plain": [
       "['cats', 'dogs', 'fishes']"
      ]
     },
     "execution_count": 71,
     "metadata": {},
     "output_type": "execute_result"
    }
   ],
   "source": [
    "re.findall('[A-Za-z]+ \\w+ \\d+ (\\w+)', string) # To pull out the animals"
   ]
  },
  {
   "cell_type": "code",
   "execution_count": 72,
   "metadata": {},
   "outputs": [
    {
     "data": {
      "text/plain": [
       "[('John', '6', 'cats'), ('Susan', '3', 'dogs'), ('Mike', '8', 'fishes')]"
      ]
     },
     "execution_count": 72,
     "metadata": {},
     "output_type": "execute_result"
    }
   ],
   "source": [
    "re.findall('([A-Za-z]+) \\w+ (\\d+) (\\w+)', string) # The output is get as tuples."
   ]
  },
  {
   "cell_type": "code",
   "execution_count": 73,
   "metadata": {},
   "outputs": [],
   "source": [
    "# Organize the data by data-types\n",
    "\n",
    "info = re.findall('([A-Za-z]+) \\w+ (\\d+) (\\w+)', string)"
   ]
  },
  {
   "cell_type": "code",
   "execution_count": 74,
   "metadata": {},
   "outputs": [
    {
     "data": {
      "text/plain": [
       "[('John', '6', 'cats'), ('Susan', '3', 'dogs'), ('Mike', '8', 'fishes')]"
      ]
     },
     "execution_count": 74,
     "metadata": {},
     "output_type": "execute_result"
    }
   ],
   "source": [
    "info # The output is get as list of tuples."
   ]
  },
  {
   "cell_type": "code",
   "execution_count": 75,
   "metadata": {},
   "outputs": [
    {
     "data": {
      "text/plain": [
       "[('John', 'Susan', 'Mike'), ('6', '3', '8'), ('cats', 'dogs', 'fishes')]"
      ]
     },
     "execution_count": 75,
     "metadata": {},
     "output_type": "execute_result"
    }
   ],
   "source": [
    "list(zip(*info)) # Organize the data by categories\n",
    "                 # The output is get as list of tuples.\n",
    "                 # The data is organized using index method."
   ]
  },
  {
   "cell_type": "code",
   "execution_count": 76,
   "metadata": {},
   "outputs": [
    {
     "data": {
      "text/plain": [
       "<re.Match object; span=(0, 15), match='John has 6 cats'>"
      ]
     },
     "execution_count": 76,
     "metadata": {},
     "output_type": "execute_result"
    }
   ],
   "source": [
    "match = re.search('([A-Za-z]+) \\w+ (\\d+) (\\w+)', string)\n",
    "match\n",
    "# Only pull out the entire match."
   ]
  },
  {
   "cell_type": "code",
   "execution_count": 77,
   "metadata": {},
   "outputs": [
    {
     "data": {
      "text/plain": [
       "'John has 6 cats'"
      ]
     },
     "execution_count": 77,
     "metadata": {},
     "output_type": "execute_result"
    }
   ],
   "source": [
    "match.group(0) # get the first string"
   ]
  },
  {
   "cell_type": "code",
   "execution_count": 78,
   "metadata": {},
   "outputs": [
    {
     "data": {
      "text/plain": [
       "('John', '6', 'cats')"
      ]
     },
     "execution_count": 78,
     "metadata": {},
     "output_type": "execute_result"
    }
   ],
   "source": [
    "match.groups() # get all groups"
   ]
  },
  {
   "cell_type": "code",
   "execution_count": 79,
   "metadata": {},
   "outputs": [
    {
     "data": {
      "text/plain": [
       "'John'"
      ]
     },
     "execution_count": 79,
     "metadata": {},
     "output_type": "execute_result"
    }
   ],
   "source": [
    "match.group(1) # Select group"
   ]
  },
  {
   "cell_type": "code",
   "execution_count": 80,
   "metadata": {},
   "outputs": [
    {
     "data": {
      "text/plain": [
       "'6'"
      ]
     },
     "execution_count": 80,
     "metadata": {},
     "output_type": "execute_result"
    }
   ],
   "source": [
    "match.group(2) # Select group"
   ]
  },
  {
   "cell_type": "code",
   "execution_count": 81,
   "metadata": {},
   "outputs": [
    {
     "data": {
      "text/plain": [
       "('John', '6')"
      ]
     },
     "execution_count": 81,
     "metadata": {},
     "output_type": "execute_result"
    }
   ],
   "source": [
    "match.group(1,2) # Multiple group"
   ]
  },
  {
   "cell_type": "code",
   "execution_count": 82,
   "metadata": {},
   "outputs": [
    {
     "data": {
      "text/plain": [
       "('cats', '6', 'John', 'John')"
      ]
     },
     "execution_count": 82,
     "metadata": {},
     "output_type": "execute_result"
    }
   ],
   "source": [
    "match.group(3,2,1,1)"
   ]
  },
  {
   "cell_type": "code",
   "execution_count": 83,
   "metadata": {},
   "outputs": [
    {
     "data": {
      "text/plain": [
       "'John has 6 cats but I think my friend Susan has 3 dogs and Mike has 8 fishes'"
      ]
     },
     "execution_count": 83,
     "metadata": {},
     "output_type": "execute_result"
    }
   ],
   "source": [
    "string"
   ]
  },
  {
   "cell_type": "code",
   "execution_count": 84,
   "metadata": {},
   "outputs": [
    {
     "data": {
      "text/plain": [
       "(0, 15)"
      ]
     },
     "execution_count": 84,
     "metadata": {},
     "output_type": "execute_result"
    }
   ],
   "source": [
    "match.span() # the index of beginning and end of the string."
   ]
  },
  {
   "cell_type": "code",
   "execution_count": 85,
   "metadata": {},
   "outputs": [
    {
     "data": {
      "text/plain": [
       "(9, 10)"
      ]
     },
     "execution_count": 85,
     "metadata": {},
     "output_type": "execute_result"
    }
   ],
   "source": [
    "match.span(2)"
   ]
  },
  {
   "cell_type": "code",
   "execution_count": 86,
   "metadata": {},
   "outputs": [
    {
     "data": {
      "text/plain": [
       "('John', '6', 'cats')"
      ]
     },
     "execution_count": 86,
     "metadata": {},
     "output_type": "execute_result"
    }
   ],
   "source": [
    "re.findall('([A-Za-z]+) \\w+ (\\d+) (\\w+)', string)[0]"
   ]
  },
  {
   "cell_type": "code",
   "execution_count": 87,
   "metadata": {},
   "outputs": [
    {
     "data": {
      "text/plain": [
       "[('John', '6', 'cats'), ('Susan', '3', 'dogs'), ('Mike', '8', 'fishes')]"
      ]
     },
     "execution_count": 87,
     "metadata": {},
     "output_type": "execute_result"
    }
   ],
   "source": [
    "re.findall('([A-Za-z]+) \\w+ (\\d+) (\\w+)', string)"
   ]
  },
  {
   "cell_type": "code",
   "execution_count": 88,
   "metadata": {},
   "outputs": [
    {
     "data": {
      "text/plain": [
       "[('John has 6 cats', 'John', '6', 'cats'),\n",
       " ('Susan has 3 dogs', 'Susan', '3', 'dogs'),\n",
       " ('Mike has 8 fishes', 'Mike', '8', 'fishes')]"
      ]
     },
     "execution_count": 88,
     "metadata": {},
     "output_type": "execute_result"
    }
   ],
   "source": [
    "data = re.findall('(([A-Za-z]+) \\w+ (\\d+) (\\w+))', string)\n",
    "data"
   ]
  },
  {
   "cell_type": "code",
   "execution_count": 89,
   "metadata": {},
   "outputs": [
    {
     "name": "stdout",
     "output_type": "stream",
     "text": [
      "John has 6 cats\n",
      "Susan has 3 dogs\n",
      "Mike has 8 fishes\n"
     ]
    }
   ],
   "source": [
    "for i in data:\n",
    "    print(i[0])"
   ]
  },
  {
   "cell_type": "code",
   "execution_count": 90,
   "metadata": {},
   "outputs": [
    {
     "name": "stdout",
     "output_type": "stream",
     "text": [
      "cats\n",
      "dogs\n",
      "fishes\n"
     ]
    }
   ],
   "source": [
    "for i in data:\n",
    "    print(i[3])"
   ]
  },
  {
   "cell_type": "raw",
   "metadata": {},
   "source": [
    "We can use \"iteration\""
   ]
  },
  {
   "cell_type": "code",
   "execution_count": 91,
   "metadata": {},
   "outputs": [],
   "source": [
    "it = re.finditer('([A-Za-z]+) \\w+ (\\d+) (\\w+)', string)"
   ]
  },
  {
   "cell_type": "code",
   "execution_count": 92,
   "metadata": {},
   "outputs": [
    {
     "data": {
      "text/plain": [
       "'John has 6 cats'"
      ]
     },
     "execution_count": 92,
     "metadata": {},
     "output_type": "execute_result"
    }
   ],
   "source": [
    "next(it).group()   # Iterating and didn't save"
   ]
  },
  {
   "cell_type": "code",
   "execution_count": 93,
   "metadata": {},
   "outputs": [
    {
     "name": "stdout",
     "output_type": "stream",
     "text": [
      "('Susan', 'dogs', '3')\n",
      "('Mike', 'fishes', '8')\n"
     ]
    }
   ],
   "source": [
    " for element in it:\n",
    "        print(element.group(1, 3, 2))"
   ]
  },
  {
   "cell_type": "code",
   "execution_count": 94,
   "metadata": {},
   "outputs": [],
   "source": [
    " for element in it:\n",
    "        print(element.group())"
   ]
  },
  {
   "cell_type": "code",
   "execution_count": 95,
   "metadata": {},
   "outputs": [],
   "source": [
    "for element in it:\n",
    "    print(element.groups())"
   ]
  },
  {
   "cell_type": "markdown",
   "metadata": {},
   "source": [
    "## NAMING GROUPS"
   ]
  },
  {
   "cell_type": "raw",
   "metadata": {},
   "source": [
    "Help the code to get more readable.\n",
    "Can pullout each group by their respective names.\n"
   ]
  },
  {
   "cell_type": "code",
   "execution_count": 96,
   "metadata": {},
   "outputs": [],
   "source": [
    "import re"
   ]
  },
  {
   "cell_type": "code",
   "execution_count": 97,
   "metadata": {},
   "outputs": [],
   "source": [
    "string = 'Nem York, New York 11369'"
   ]
  },
  {
   "cell_type": "raw",
   "metadata": {},
   "source": [
    "([A-Za-z\\s]+)\n",
    "([A-Za-z\\s]+)\n",
    "(\\d+)"
   ]
  },
  {
   "cell_type": "code",
   "execution_count": 98,
   "metadata": {},
   "outputs": [
    {
     "name": "stdout",
     "output_type": "stream",
     "text": [
      "<re.Match object; span=(0, 24), match='Nem York, New York 11369'>\n"
     ]
    }
   ],
   "source": [
    "match = re.search('([A-Za-z\\s]+),([A-Za-z\\s]+) (\\d+)', string)\n",
    "print(match)"
   ]
  },
  {
   "cell_type": "code",
   "execution_count": 99,
   "metadata": {},
   "outputs": [
    {
     "data": {
      "text/plain": [
       "('Nem York', ' New York', '11369', 'Nem York, New York 11369')"
      ]
     },
     "execution_count": 99,
     "metadata": {},
     "output_type": "execute_result"
    }
   ],
   "source": [
    "match.group(1), match.group(2), match.group(3), match.group(0)"
   ]
  },
  {
   "cell_type": "raw",
   "metadata": {},
   "source": [
    "\n",
    "?p<Name_of_the_group>   # To name a group-- grouo name inside the <>, followed by RE for group\n",
    "\n",
    "(?P<City>)       (?P<State>)       (?P<ZipCode>)\n"
   ]
  },
  {
   "cell_type": "code",
   "execution_count": 100,
   "metadata": {},
   "outputs": [],
   "source": [
    "# Combine the Name of the group with regular expression.\n",
    "# re.compile is a clean way to save the pattern.\n",
    "pattern = re.compile('(?P<City>[A-Za-z\\s]+),(?P<State>[A-Za-z\\s]+) (?P<ZipCode>\\d+)')"
   ]
  },
  {
   "cell_type": "code",
   "execution_count": 101,
   "metadata": {},
   "outputs": [],
   "source": [
    "match = re.search(pattern, string)"
   ]
  },
  {
   "cell_type": "code",
   "execution_count": 102,
   "metadata": {},
   "outputs": [
    {
     "data": {
      "text/plain": [
       "('Nem York', ' New York', '11369')"
      ]
     },
     "execution_count": 102,
     "metadata": {},
     "output_type": "execute_result"
    }
   ],
   "source": [
    "match.group('City'), match.group('State'), match.group('ZipCode')"
   ]
  },
  {
   "cell_type": "code",
   "execution_count": 103,
   "metadata": {},
   "outputs": [
    {
     "data": {
      "text/plain": [
       "'Nem York'"
      ]
     },
     "execution_count": 103,
     "metadata": {},
     "output_type": "execute_result"
    }
   ],
   "source": [
    "match.group(1)"
   ]
  },
  {
   "cell_type": "code",
   "execution_count": 104,
   "metadata": {},
   "outputs": [
    {
     "data": {
      "text/plain": [
       "('Nem York', ' New York', '11369')"
      ]
     },
     "execution_count": 104,
     "metadata": {},
     "output_type": "execute_result"
    }
   ],
   "source": [
    "match.groups()"
   ]
  },
  {
   "cell_type": "code",
   "execution_count": 105,
   "metadata": {},
   "outputs": [
    {
     "data": {
      "text/plain": [
       "{'City': 'Nem York', 'State': ' New York', 'ZipCode': '11369'}"
      ]
     },
     "execution_count": 105,
     "metadata": {},
     "output_type": "execute_result"
    }
   ],
   "source": [
    "# Just incase if you forget the names of the groups you used.\n",
    "\n",
    "match.groupdict()"
   ]
  },
  {
   "cell_type": "markdown",
   "metadata": {},
   "source": [
    "## Quantifiers On Groups"
   ]
  },
  {
   "cell_type": "markdown",
   "metadata": {},
   "source": [
    "- Using quantifiers on groups has some nuances, but very useful"
   ]
  },
  {
   "cell_type": "code",
   "execution_count": 106,
   "metadata": {},
   "outputs": [],
   "source": [
    "import re"
   ]
  },
  {
   "cell_type": "code",
   "execution_count": 107,
   "metadata": {},
   "outputs": [
    {
     "data": {
      "text/plain": [
       "<re.Match object; span=(0, 12), match='abababababab'>"
      ]
     },
     "execution_count": 107,
     "metadata": {},
     "output_type": "execute_result"
    }
   ],
   "source": [
    "string = 'abababababab'     # ab repeated many times\n",
    "\n",
    "re.search('(ab)+', string)  # (ab)+ is many instances of one group repeated"
   ]
  },
  {
   "cell_type": "code",
   "execution_count": 108,
   "metadata": {},
   "outputs": [
    {
     "data": {
      "text/plain": [
       "<re.Match object; span=(0, 12), match='abababababab'>"
      ]
     },
     "execution_count": 108,
     "metadata": {},
     "output_type": "execute_result"
    }
   ],
   "source": [
    "string = 'abababababab'     # ab repeated many times\n",
    "\n",
    "re.search('[ab]+', string)  # This is different"
   ]
  },
  {
   "cell_type": "code",
   "execution_count": 109,
   "metadata": {},
   "outputs": [
    {
     "data": {
      "text/plain": [
       "<re.Match object; span=(0, 6), match='ababab'>"
      ]
     },
     "execution_count": 109,
     "metadata": {},
     "output_type": "execute_result"
    }
   ],
   "source": [
    "string = 'abababbbbbbb'\n",
    "\n",
    "re.search('(ab)+', string)   # Only search the combination of ab."
   ]
  },
  {
   "cell_type": "code",
   "execution_count": 110,
   "metadata": {},
   "outputs": [
    {
     "data": {
      "text/plain": [
       "<re.Match object; span=(0, 12), match='abababbbbbbb'>"
      ]
     },
     "execution_count": 110,
     "metadata": {},
     "output_type": "execute_result"
    }
   ],
   "source": [
    "string = 'abababbbbbbb'\n",
    "\n",
    "re.search('[ab]+', string)   # Get all the \"a\" or \"b\" no matter what pattern."
   ]
  },
  {
   "cell_type": "code",
   "execution_count": 111,
   "metadata": {},
   "outputs": [
    {
     "data": {
      "text/plain": [
       "<re.Match object; span=(0, 12), match='abababbbbbbb'>"
      ]
     },
     "execution_count": 111,
     "metadata": {},
     "output_type": "execute_result"
    }
   ],
   "source": [
    "# Allows flexibility\n",
    "\n",
    "string = 'abababbbbbbb'\n",
    "\n",
    "re.search('(ab)+\\w+', string)   # Get all the combination of \"ab\" and then get all the alpha-numeric characters."
   ]
  },
  {
   "cell_type": "markdown",
   "metadata": {},
   "source": [
    "### Nuances to be Wary of"
   ]
  },
  {
   "cell_type": "raw",
   "metadata": {},
   "source": [
    "- Only one group not multiple groups."
   ]
  },
  {
   "cell_type": "code",
   "execution_count": 112,
   "metadata": {},
   "outputs": [
    {
     "data": {
      "text/plain": [
       "'ab'"
      ]
     },
     "execution_count": 112,
     "metadata": {},
     "output_type": "execute_result"
    }
   ],
   "source": [
    "string = 'abababababab' # Original string\n",
    "\n",
    "match = re.search('(ab)+', string)\n",
    "\n",
    "match.group(1)  # Capturing only one group; Value is overwritten each time."
   ]
  },
  {
   "cell_type": "code",
   "execution_count": 113,
   "metadata": {},
   "outputs": [
    {
     "data": {
      "text/plain": [
       "('ab',)"
      ]
     },
     "execution_count": 113,
     "metadata": {},
     "output_type": "execute_result"
    }
   ],
   "source": [
    "match.groups()  # We only have one group"
   ]
  },
  {
   "cell_type": "code",
   "execution_count": 114,
   "metadata": {},
   "outputs": [
    {
     "data": {
      "text/plain": [
       "'abababababab'"
      ]
     },
     "execution_count": 114,
     "metadata": {},
     "output_type": "execute_result"
    }
   ],
   "source": [
    "match.group()  # The full match, Not related to groups."
   ]
  },
  {
   "cell_type": "code",
   "execution_count": 115,
   "metadata": {},
   "outputs": [],
   "source": [
    "string = 'abababababab' # Original string"
   ]
  },
  {
   "cell_type": "code",
   "execution_count": 116,
   "metadata": {},
   "outputs": [
    {
     "data": {
      "text/plain": [
       "<re.Match object; span=(0, 12), match='abababababab'>"
      ]
     },
     "execution_count": 116,
     "metadata": {},
     "output_type": "execute_result"
    }
   ],
   "source": [
    "# Here 2 grups and quanifiers\n",
    "\n",
    "match = re.search('(ab)+(ab)+', string)  # The first group collects the whole string('abababababab') and then the second group collects only the last 'ab' to satisfie the condtion.\n",
    "match"
   ]
  },
  {
   "cell_type": "code",
   "execution_count": 117,
   "metadata": {},
   "outputs": [
    {
     "data": {
      "text/plain": [
       "('ab', 'ab')"
      ]
     },
     "execution_count": 117,
     "metadata": {},
     "output_type": "execute_result"
    }
   ],
   "source": [
    "match.groups()  # Two groups"
   ]
  },
  {
   "cell_type": "code",
   "execution_count": 118,
   "metadata": {},
   "outputs": [
    {
     "data": {
      "text/plain": [
       "(10, 12)"
      ]
     },
     "execution_count": 118,
     "metadata": {},
     "output_type": "execute_result"
    }
   ],
   "source": [
    "match.span(2)  # The first group is greedy."
   ]
  },
  {
   "cell_type": "raw",
   "metadata": {},
   "source": [
    "Only one value captured."
   ]
  },
  {
   "cell_type": "code",
   "execution_count": 119,
   "metadata": {},
   "outputs": [],
   "source": [
    "string = '123456789'\n",
    "\n",
    "match = re.search('(\\d)+', string)"
   ]
  },
  {
   "cell_type": "code",
   "execution_count": 120,
   "metadata": {},
   "outputs": [
    {
     "data": {
      "text/plain": [
       "<re.Match object; span=(0, 9), match='123456789'>"
      ]
     },
     "execution_count": 120,
     "metadata": {},
     "output_type": "execute_result"
    }
   ],
   "source": [
    "match  # Match is the entire string.(Full pattern still retained.)"
   ]
  },
  {
   "cell_type": "code",
   "execution_count": 121,
   "metadata": {},
   "outputs": [
    {
     "data": {
      "text/plain": [
       "('9',)"
      ]
     },
     "execution_count": 121,
     "metadata": {},
     "output_type": "execute_result"
    }
   ],
   "source": [
    "match.groups()  # Only one group(final one); The value is get updated by the last possible value. \n",
    "                # Each numer is a group in this example and all the groups are satisfies the condition."
   ]
  },
  {
   "cell_type": "markdown",
   "metadata": {},
   "source": [
    "### Quantifiers With Groups Within Findall"
   ]
  },
  {
   "cell_type": "code",
   "execution_count": 122,
   "metadata": {},
   "outputs": [
    {
     "data": {
      "text/plain": [
       "['9']"
      ]
     },
     "execution_count": 122,
     "metadata": {},
     "output_type": "execute_result"
    }
   ],
   "source": [
    "string = '123456789'\n",
    "re.findall('(\\d)+', string)"
   ]
  },
  {
   "cell_type": "code",
   "execution_count": 123,
   "metadata": {},
   "outputs": [
    {
     "data": {
      "text/plain": [
       "['4', '9']"
      ]
     },
     "execution_count": 123,
     "metadata": {},
     "output_type": "execute_result"
    }
   ],
   "source": [
    "string = '1234 56789'\n",
    "\n",
    "re.findall('(\\d)+', string)  # Here we have 2 matches.\n",
    "                             # Final value of the each two groups."
   ]
  },
  {
   "cell_type": "code",
   "execution_count": 124,
   "metadata": {},
   "outputs": [
    {
     "data": {
      "text/plain": [
       "[('1234', '4'), ('56789', '9')]"
      ]
     },
     "execution_count": 124,
     "metadata": {},
     "output_type": "execute_result"
    }
   ],
   "source": [
    "re.findall('((\\d)+)', string)\n",
    "\n",
    "# To find full match create a main group engulfing the smaller groups.\n",
    "# Will get the whole pattern and the subgroups."
   ]
  },
  {
   "cell_type": "code",
   "execution_count": 125,
   "metadata": {},
   "outputs": [
    {
     "data": {
      "text/plain": [
       "'1234'"
      ]
     },
     "execution_count": 125,
     "metadata": {},
     "output_type": "execute_result"
    }
   ],
   "source": [
    "re.findall('((\\d)+)', string)[0][0]"
   ]
  },
  {
   "cell_type": "code",
   "execution_count": 126,
   "metadata": {},
   "outputs": [
    {
     "data": {
      "text/plain": [
       "'4'"
      ]
     },
     "execution_count": 126,
     "metadata": {},
     "output_type": "execute_result"
    }
   ],
   "source": [
    "re.findall('((\\d)+)', string)[0][1]"
   ]
  },
  {
   "cell_type": "code",
   "execution_count": 127,
   "metadata": {},
   "outputs": [
    {
     "data": {
      "text/plain": [
       "'56789'"
      ]
     },
     "execution_count": 127,
     "metadata": {},
     "output_type": "execute_result"
    }
   ],
   "source": [
    "re.findall('((\\d)+)', string)[1][0]"
   ]
  },
  {
   "cell_type": "code",
   "execution_count": 128,
   "metadata": {},
   "outputs": [
    {
     "data": {
      "text/plain": [
       "'9'"
      ]
     },
     "execution_count": 128,
     "metadata": {},
     "output_type": "execute_result"
    }
   ],
   "source": [
    "re.findall('((\\d)+)', string)[1][1]"
   ]
  },
  {
   "cell_type": "code",
   "execution_count": 129,
   "metadata": {},
   "outputs": [
    {
     "data": {
      "text/plain": [
       "[('ab', 'ab'), ('abababababab', 'ab')]"
      ]
     },
     "execution_count": 129,
     "metadata": {},
     "output_type": "execute_result"
    }
   ],
   "source": [
    "# Another example\n",
    "\n",
    "string = 'abbbbb abababababab'\n",
    "re.findall('((ab)+)', string)"
   ]
  },
  {
   "cell_type": "markdown",
   "metadata": {},
   "source": [
    "### Groups for word completin"
   ]
  },
  {
   "cell_type": "code",
   "execution_count": 130,
   "metadata": {},
   "outputs": [
    {
     "data": {
      "text/plain": [
       "<re.Match object; span=(0, 14), match='Happy Birthday'>"
      ]
     },
     "execution_count": 130,
     "metadata": {},
     "output_type": "execute_result"
    }
   ],
   "source": [
    "re.search('Happy (Valentines|Birthday|Anniversary)', 'Happy Birthday')"
   ]
  },
  {
   "cell_type": "code",
   "execution_count": 131,
   "metadata": {},
   "outputs": [
    {
     "data": {
      "text/plain": [
       "<re.Match object; span=(0, 16), match='Happy Valentines'>"
      ]
     },
     "execution_count": 131,
     "metadata": {},
     "output_type": "execute_result"
    }
   ],
   "source": [
    "re.search('Happy (Valentines|Birthday|Anniversary)', 'Happy Valentines')"
   ]
  },
  {
   "cell_type": "markdown",
   "metadata": {},
   "source": [
    "## Non-Capture Groups"
   ]
  },
  {
   "cell_type": "code",
   "execution_count": 132,
   "metadata": {},
   "outputs": [
    {
     "data": {
      "text/plain": [
       "['4', '9']"
      ]
     },
     "execution_count": 132,
     "metadata": {},
     "output_type": "execute_result"
    }
   ],
   "source": [
    "# Here is one such example:\n",
    "\n",
    "import re\n",
    "string = '1234 56789'\n",
    "\n",
    "re.findall('(\\d)+', string)"
   ]
  },
  {
   "cell_type": "code",
   "execution_count": 133,
   "metadata": {},
   "outputs": [
    {
     "data": {
      "text/plain": [
       "('4',)"
      ]
     },
     "execution_count": 133,
     "metadata": {},
     "output_type": "execute_result"
    }
   ],
   "source": [
    "re.search('(\\d)+', string).groups()  # Using search"
   ]
  },
  {
   "cell_type": "raw",
   "metadata": {},
   "source": [
    "Non-capture groups syntax\n",
    "\n",
    "?:\n",
    "\n",
    "The symbol above represents non-capture groups and look slightly similar to the syntax for naming groups(?P).\n",
    "\n",
    "?P = Didn't confuse the two.\n"
   ]
  },
  {
   "cell_type": "code",
   "execution_count": 134,
   "metadata": {},
   "outputs": [],
   "source": [
    "# Comparison"
   ]
  },
  {
   "cell_type": "code",
   "execution_count": 135,
   "metadata": {},
   "outputs": [
    {
     "data": {
      "text/plain": [
       "['4', '9']"
      ]
     },
     "execution_count": 135,
     "metadata": {},
     "output_type": "execute_result"
    }
   ],
   "source": [
    "re.findall('(\\d)+', string)"
   ]
  },
  {
   "cell_type": "code",
   "execution_count": 136,
   "metadata": {},
   "outputs": [
    {
     "data": {
      "text/plain": [
       "['1234', '56789']"
      ]
     },
     "execution_count": 136,
     "metadata": {},
     "output_type": "execute_result"
    }
   ],
   "source": [
    "re.findall('(?:\\d)+', string)  # with non-capture group.\n",
    "\n",
    "# the group converted to non-capture group."
   ]
  },
  {
   "cell_type": "code",
   "execution_count": 137,
   "metadata": {},
   "outputs": [],
   "source": [
    "# So the group is part of the pattern, but we don't output the groups."
   ]
  },
  {
   "cell_type": "code",
   "execution_count": 138,
   "metadata": {},
   "outputs": [
    {
     "data": {
      "text/plain": [
       "['1234', '56789']"
      ]
     },
     "execution_count": 138,
     "metadata": {},
     "output_type": "execute_result"
    }
   ],
   "source": [
    "re.findall('\\d+', string)  # when output has no groups.\n",
    "                           # we output entire match."
   ]
  },
  {
   "cell_type": "code",
   "execution_count": 139,
   "metadata": {},
   "outputs": [],
   "source": [
    "# Another example\n",
    "# We want to pull out all the names whose ID's haS '123' pattern within in.\n",
    "\n",
    "string = '123123 = Alex, 123123123 = Danny, 123123123123 = Mike, 456456 = Rick, 121212 = John, 132132 = Nandu,'\n"
   ]
  },
  {
   "cell_type": "code",
   "execution_count": 140,
   "metadata": {},
   "outputs": [
    {
     "data": {
      "text/plain": [
       "['Alex', 'Danny', 'Mike']"
      ]
     },
     "execution_count": 140,
     "metadata": {},
     "output_type": "execute_result"
    }
   ],
   "source": [
    "re.findall('(?:123)+ = (\\w+),', string)  # Three instances"
   ]
  },
  {
   "cell_type": "code",
   "execution_count": 141,
   "metadata": {},
   "outputs": [],
   "source": [
    "# Another Example\n",
    "# We want to find two or more 1* combinations.\n",
    "string = '1*1*1*1*22222 1*1*3333 2*1*2*1*222 1*2*2*2*333 3*3*3*444'\n"
   ]
  },
  {
   "cell_type": "code",
   "execution_count": 142,
   "metadata": {},
   "outputs": [
    {
     "data": {
      "text/plain": [
       "['1*1*1*1*22222', '1*1*3333']"
      ]
     },
     "execution_count": 142,
     "metadata": {},
     "output_type": "execute_result"
    }
   ],
   "source": [
    "re.findall(r'(?:1\\*){2,}\\d+', string)"
   ]
  },
  {
   "cell_type": "code",
   "execution_count": 143,
   "metadata": {},
   "outputs": [],
   "source": [
    "# Now, non-captured groups doesn't just affect the findall method.\n",
    "# It also affects the search and match method."
   ]
  },
  {
   "cell_type": "code",
   "execution_count": 144,
   "metadata": {},
   "outputs": [
    {
     "name": "stdout",
     "output_type": "stream",
     "text": [
      "()\n"
     ]
    }
   ],
   "source": [
    "string = '1234 56789'\n",
    "\n",
    "match = re.search('(?:\\d)+', string)\n",
    "print(match.groups())"
   ]
  },
  {
   "cell_type": "raw",
   "metadata": {},
   "source": [
    "Summary:\n",
    "    \n",
    "    When we captue groups we are either storing the value or outputting them."
   ]
  },
  {
   "cell_type": "markdown",
   "metadata": {},
   "source": [
    "### Backreferences - Using captured groups inside other operations"
   ]
  },
  {
   "cell_type": "raw",
   "metadata": {},
   "source": [
    "Backreferencings make a references to the captured group with in the same regular expression."
   ]
  },
  {
   "cell_type": "raw",
   "metadata": {},
   "source": [
    "\\1 = is just referencing the first group with in the regular expression.\n",
    "\n",
    "r'(\\w+) \\1'"
   ]
  },
  {
   "cell_type": "code",
   "execution_count": 145,
   "metadata": {},
   "outputs": [
    {
     "data": {
      "text/plain": [
       "<re.Match object; span=(0, 11), match='Merry Merry'>"
      ]
     },
     "execution_count": 145,
     "metadata": {},
     "output_type": "execute_result"
    }
   ],
   "source": [
    "# Syntax and Example:\n",
    "\n",
    "re.search(r'(\\w+) \\1', 'Merry Merry Christmas')  # Looking for the repeated words.\n"
   ]
  },
  {
   "cell_type": "code",
   "execution_count": 146,
   "metadata": {},
   "outputs": [
    {
     "data": {
      "text/plain": [
       "'Merry Merry'"
      ]
     },
     "execution_count": 146,
     "metadata": {},
     "output_type": "execute_result"
    }
   ],
   "source": [
    "re.search(r'(\\w+) \\1', 'Merry Merry Christmas').group()"
   ]
  },
  {
   "cell_type": "code",
   "execution_count": 147,
   "metadata": {},
   "outputs": [
    {
     "data": {
      "text/plain": [
       "('Merry',)"
      ]
     },
     "execution_count": 147,
     "metadata": {},
     "output_type": "execute_result"
    }
   ],
   "source": [
    "re.search(r'(\\w+) \\1', 'Merry Merry Christmas').groups()"
   ]
  },
  {
   "cell_type": "code",
   "execution_count": 148,
   "metadata": {},
   "outputs": [
    {
     "data": {
      "text/plain": [
       "['Happy', 'Christmas']"
      ]
     },
     "execution_count": 148,
     "metadata": {},
     "output_type": "execute_result"
    }
   ],
   "source": [
    "# Want to look for repeated words\n",
    "# Looking for the bunch of repeated words.\n",
    "\n",
    "re.findall(r'(\\w+) \\1', 'Happy Happy Holidays.Merry Christmas Christmas')"
   ]
  },
  {
   "cell_type": "code",
   "execution_count": 149,
   "metadata": {},
   "outputs": [
    {
     "data": {
      "text/plain": [
       "['Merry', 'Christmas', 'Merry']"
      ]
     },
     "execution_count": 149,
     "metadata": {},
     "output_type": "execute_result"
    }
   ],
   "source": [
    "# Another Example:\n",
    "\n",
    "re.findall(r'(\\w+) \\1', 'Merry Merry Christmas Christmas Merry Merry Christmas')\n"
   ]
  },
  {
   "cell_type": "markdown",
   "metadata": {},
   "source": [
    "## Flags, Split, Sub"
   ]
  },
  {
   "cell_type": "code",
   "execution_count": 150,
   "metadata": {},
   "outputs": [],
   "source": [
    "import re"
   ]
  },
  {
   "cell_type": "code",
   "execution_count": 151,
   "metadata": {},
   "outputs": [],
   "source": [
    "string = \"\"\"U.S. stock-index futures pointed\n",
    "to a solidly higher open on\n",
    "Monday, indicating that major benchmarks were poised to rebound\n",
    "from last week's sharp decline,\n",
    "which represented their biggest weekly drops in months.\n",
    "That weekness was driven in part by\n",
    "fears over North Korea, where tensions\n",
    "with the U.S. have been escalating.\n",
    "North Korea. That issue overshadowed the state of \n",
    "the equity market, where earnings \n",
    "have been strong at a time of high\n",
    "employment and low inflation,\n",
    "as well as valuation that appear\n",
    "elavated by many metrics, north korea North Korea.\"\"\""
   ]
  },
  {
   "cell_type": "raw",
   "metadata": {},
   "source": [
    "\n",
    "^ = Matches at beginning of stirng(Basically present at the beginning of the string)\n",
    "$ = Matches at end of string(Usually comes at the end of the string)\n"
   ]
  },
  {
   "cell_type": "code",
   "execution_count": 152,
   "metadata": {},
   "outputs": [],
   "source": [
    "# Below examples are the same\n",
    "\n",
    "re.search('^North Korea\\.?', string)  # No results; Because there is no \"North Korea\" in the beginning of the string.\n"
   ]
  },
  {
   "cell_type": "code",
   "execution_count": 153,
   "metadata": {},
   "outputs": [],
   "source": [
    "\n",
    "re.match('North Korea\\.?', string)  # \"re.match \" is also only looks at the beginning of the string.\n"
   ]
  },
  {
   "cell_type": "code",
   "execution_count": 154,
   "metadata": {},
   "outputs": [
    {
     "data": {
      "text/plain": [
       "'North Korea.'"
      ]
     },
     "execution_count": 154,
     "metadata": {},
     "output_type": "execute_result"
    }
   ],
   "source": [
    "\n",
    "re.search('North Korea\\.?$', string).group()  # \"North Korea\" is present at the end of the string.\n"
   ]
  },
  {
   "cell_type": "markdown",
   "metadata": {},
   "source": [
    "### re.MULTILINE/ re.M"
   ]
  },
  {
   "cell_type": "raw",
   "metadata": {},
   "source": [
    "To will help to search the beginnig of each line."
   ]
  },
  {
   "cell_type": "code",
   "execution_count": 155,
   "metadata": {},
   "outputs": [
    {
     "data": {
      "text/plain": [
       "<re.Match object; span=(324, 336), match='North Korea.'>"
      ]
     },
     "execution_count": 155,
     "metadata": {},
     "output_type": "execute_result"
    }
   ],
   "source": [
    "re.search('^North Korea\\.?', string, flags = re.MULTILINE) # North Korea present at the index 324,336."
   ]
  },
  {
   "cell_type": "code",
   "execution_count": 156,
   "metadata": {},
   "outputs": [],
   "source": [
    "# Cannot work with \"re.match\" only works with \"re.search\"\n",
    "\n",
    "re.match('^North Korea\\.?', string, flags = re.MULTILINE)  # No output"
   ]
  },
  {
   "cell_type": "markdown",
   "metadata": {},
   "source": [
    "### re.IGNORECASE/ re.l"
   ]
  },
  {
   "cell_type": "raw",
   "metadata": {},
   "source": [
    "Works with capital letters and non-capital letters and with the combination of words(noRtH KorEA)."
   ]
  },
  {
   "cell_type": "code",
   "execution_count": 157,
   "metadata": {},
   "outputs": [
    {
     "data": {
      "text/plain": [
       "['North Korea', 'North Korea', 'north korea', 'North Korea']"
      ]
     },
     "execution_count": 157,
     "metadata": {},
     "output_type": "execute_result"
    }
   ],
   "source": [
    "re.findall('North Korea', string, flags = re.IGNORECASE)"
   ]
  },
  {
   "cell_type": "markdown",
   "metadata": {},
   "source": [
    "### re.DOTALL/ re.S"
   ]
  },
  {
   "cell_type": "code",
   "execution_count": 158,
   "metadata": {},
   "outputs": [
    {
     "data": {
      "text/plain": [
       "'U.S. stock-index futures pointed'"
      ]
     },
     "execution_count": 158,
     "metadata": {},
     "output_type": "execute_result"
    }
   ],
   "source": [
    "# Grabs the first line only\n",
    "# Only used with \".\" character\n",
    "\n",
    "re.match('.*', string).group()"
   ]
  },
  {
   "cell_type": "code",
   "execution_count": 159,
   "metadata": {},
   "outputs": [
    {
     "data": {
      "text/plain": [
       "\"U.S. stock-index futures pointed\\nto a solidly higher open on\\nMonday, indicating that major benchmarks were poised to rebound\\nfrom last week's sharp decline,\\nwhich represented their biggest weekly drops in months.\\nThat weekness was driven in part by\\nfears over North Korea, where tensions\\nwith the U.S. have been escalating.\\nNorth Korea. That issue overshadowed the state of \\nthe equity market, where earnings \\nhave been strong at a time of high\\nemployment and low inflation,\\nas well as valuation that appear\\nelavated by many metrics, north korea North Korea.\""
      ]
     },
     "execution_count": 159,
     "metadata": {},
     "output_type": "execute_result"
    }
   ],
   "source": [
    "# If you want to include new lines\n",
    "\n",
    "re.match('.*', string, flags = re.DOTALL).group()  # Get the entire string"
   ]
  },
  {
   "cell_type": "raw",
   "metadata": {},
   "source": [
    "Other flags:\n",
    "    re.ASCII   # For other languages\n",
    "    re.DEBUG   # For debugging purposes\n",
    "    re.LOCALE"
   ]
  },
  {
   "cell_type": "markdown",
   "metadata": {},
   "source": [
    "## re.methods"
   ]
  },
  {
   "cell_type": "markdown",
   "metadata": {},
   "source": [
    "### re.split"
   ]
  },
  {
   "cell_type": "code",
   "execution_count": 160,
   "metadata": {},
   "outputs": [
    {
     "data": {
      "text/plain": [
       "['Today is sunny', ' I want go to the park', ' I want to eat ice cream', '']"
      ]
     },
     "execution_count": 160,
     "metadata": {},
     "output_type": "execute_result"
    }
   ],
   "source": [
    "# Example 1:\n",
    "\n",
    "re.split('\\.', 'Today is sunny. I want go to the park. I want to eat ice cream.')\n",
    "\n",
    "# The split points is not included in the output stirng."
   ]
  },
  {
   "cell_type": "code",
   "execution_count": 161,
   "metadata": {},
   "outputs": [
    {
     "data": {
      "text/plain": [
       "['Today is sunny',\n",
       " '.',\n",
       " ' I want go to the park',\n",
       " '.',\n",
       " ' I want to eat ice cream',\n",
       " '.',\n",
       " '']"
      ]
     },
     "execution_count": 161,
     "metadata": {},
     "output_type": "execute_result"
    }
   ],
   "source": [
    "re.split('(\\.)', 'Today is sunny. I want go to the park. I want to eat ice cream.')\n",
    "\n",
    "# To add split points to the output string just put a brackets around \"\\.\""
   ]
  },
  {
   "cell_type": "code",
   "execution_count": 162,
   "metadata": {},
   "outputs": [
    {
     "data": {
      "text/plain": [
       "['Today is sunny.',\n",
       " ' I want go to the park.',\n",
       " ' I want to eat ice cream.',\n",
       " '.']"
      ]
     },
     "execution_count": 162,
     "metadata": {},
     "output_type": "execute_result"
    }
   ],
   "source": [
    "# Using list comprehension\n",
    "\n",
    "split = '.'\n",
    "[item+split for item in re.split('\\.', 'Today is sunny. I want go to the park. I want to eat ice cream.')]\n"
   ]
  },
  {
   "cell_type": "code",
   "execution_count": 163,
   "metadata": {},
   "outputs": [],
   "source": [
    "# Example 2:\n",
    "\n",
    "string = '<p>My mother has <span style=\"color:blue\">blue</span>eyes.</p>'\n"
   ]
  },
  {
   "cell_type": "code",
   "execution_count": 164,
   "metadata": {},
   "outputs": [
    {
     "data": {
      "text/plain": [
       "['', 'My mother has <span style=\"color:blue\">blue</span>eyes.</p>']"
      ]
     },
     "execution_count": 164,
     "metadata": {},
     "output_type": "execute_result"
    }
   ],
   "source": [
    "re.split('<\\w+>', string)   # Doesn't work"
   ]
  },
  {
   "cell_type": "raw",
   "metadata": {},
   "source": [
    "<> = Character set\n",
    "^  = Used in the beginning of the string"
   ]
  },
  {
   "cell_type": "code",
   "execution_count": 165,
   "metadata": {},
   "outputs": [
    {
     "data": {
      "text/plain": [
       "['', 'My mother has ', 'blue', 'eyes.', '']"
      ]
     },
     "execution_count": 165,
     "metadata": {},
     "output_type": "execute_result"
    }
   ],
   "source": [
    "re.split(\"<[^<>]+>\", string)  # Captures everything except the open and closed brackets; <>\n",
    "\n",
    "# The empty strings also present in the output string."
   ]
  },
  {
   "cell_type": "code",
   "execution_count": 166,
   "metadata": {},
   "outputs": [
    {
     "data": {
      "text/plain": [
       "['', 'happy', ' birthday', '']"
      ]
     },
     "execution_count": 166,
     "metadata": {},
     "output_type": "execute_result"
    }
   ],
   "source": [
    "# Another example of split and empty string problem\n",
    "\n",
    "re.split(',', ',happy, birthday,') # it seems to split at empty \n",
    "\n",
    "# The empty strings also present in the output string."
   ]
  },
  {
   "cell_type": "markdown",
   "metadata": {},
   "source": [
    "### Handling empty string problem"
   ]
  },
  {
   "cell_type": "code",
   "execution_count": 167,
   "metadata": {},
   "outputs": [
    {
     "data": {
      "text/plain": [
       "['My mother has ', 'blue', 'eyes.']"
      ]
     },
     "execution_count": 167,
     "metadata": {},
     "output_type": "execute_result"
    }
   ],
   "source": [
    "# Using list comprehension to eliminate the empty string.\n",
    "\n",
    "[i for i in re.split(\"<[^<>]+>\", string) if i !='']"
   ]
  },
  {
   "cell_type": "markdown",
   "metadata": {},
   "source": [
    "#### Alternatives to split:"
   ]
  },
  {
   "cell_type": "code",
   "execution_count": 168,
   "metadata": {},
   "outputs": [],
   "source": [
    "string = string = '<p>My mother has <span style=\"color:blue\">blue</span>eyes.</p>'"
   ]
  },
  {
   "cell_type": "code",
   "execution_count": 169,
   "metadata": {},
   "outputs": [
    {
     "data": {
      "text/plain": [
       "['My mother has ', 'blue', 'eyes.']"
      ]
     },
     "execution_count": 169,
     "metadata": {},
     "output_type": "execute_result"
    }
   ],
   "source": [
    "# Using \"re.findall\" method to eliminate the empty string.\n",
    "\n",
    "re.findall('>([^<]+)<', string)   # Using \"re.findall\"\n",
    "\n",
    "#   ^<  =  eliminate open brackets"
   ]
  },
  {
   "cell_type": "code",
   "execution_count": 170,
   "metadata": {},
   "outputs": [
    {
     "data": {
      "text/plain": [
       "['', 'happy', ' birthday', '']"
      ]
     },
     "execution_count": 170,
     "metadata": {},
     "output_type": "execute_result"
    }
   ],
   "source": [
    "string = re.split(',', ',happy, birthday,')\n",
    "\n",
    "re.split(',', ',happy, birthday,')"
   ]
  },
  {
   "cell_type": "code",
   "execution_count": 171,
   "metadata": {},
   "outputs": [
    {
     "data": {
      "text/plain": [
       "['happy', ' birthday']"
      ]
     },
     "execution_count": 171,
     "metadata": {},
     "output_type": "execute_result"
    }
   ],
   "source": [
    "# Using list-filter method to eliminate the empty string.\n",
    "\n",
    "string = 'happy, birthday,'\n",
    "\n",
    "list(filter(None, string.split(',')))  # The \"None\" is filter out if there is any empty strings"
   ]
  },
  {
   "cell_type": "markdown",
   "metadata": {},
   "source": [
    "### re.sub"
   ]
  },
  {
   "cell_type": "raw",
   "metadata": {},
   "source": [
    "Able to replace the words."
   ]
  },
  {
   "cell_type": "code",
   "execution_count": 173,
   "metadata": {},
   "outputs": [],
   "source": [
    "string = \"\"\"U.S. stock-index futures pointed\n",
    "to a solidly higher open on Monday, \n",
    "indicating that major \n",
    "benchmarks were poised to USA rebound from last week's sharp decline,\n",
    "which represented their biggest weekly drops in months.\"\"\""
   ]
  },
  {
   "cell_type": "code",
   "execution_count": 174,
   "metadata": {},
   "outputs": [
    {
     "name": "stdout",
     "output_type": "stream",
     "text": [
      "United States  stock-index futures pointed\n",
      "to a solidly higher open on Monday, \n",
      "indicating that major \n",
      "benchmarks were poised to United States A rebound from last week's sharp decline,\n",
      "which represented their biggest weekly drops in months.\n"
     ]
    }
   ],
   "source": [
    "print(re.sub('U.S.|US|USA', 'United States ', string))"
   ]
  },
  {
   "cell_type": "markdown",
   "metadata": {},
   "source": [
    "### Using Functions with Groups"
   ]
  },
  {
   "cell_type": "code",
   "execution_count": 175,
   "metadata": {},
   "outputs": [],
   "source": [
    "# Brief explanation of lambda:"
   ]
  },
  {
   "cell_type": "code",
   "execution_count": 176,
   "metadata": {},
   "outputs": [
    {
     "data": {
      "text/plain": [
       "9"
      ]
     },
     "execution_count": 176,
     "metadata": {},
     "output_type": "execute_result"
    }
   ],
   "source": [
    "# Explanatin for the simple function\n",
    "\n",
    "def squares(x):\n",
    "    return(x**2)\n",
    "\n",
    "squares(3)"
   ]
  },
  {
   "cell_type": "code",
   "execution_count": 177,
   "metadata": {},
   "outputs": [
    {
     "data": {
      "text/plain": [
       "9"
      ]
     },
     "execution_count": 177,
     "metadata": {},
     "output_type": "execute_result"
    }
   ],
   "source": [
    "# Lambda example\n",
    "\n",
    "square = lambda x : x**2\n",
    "\n",
    "square(3)"
   ]
  },
  {
   "cell_type": "code",
   "execution_count": 178,
   "metadata": {},
   "outputs": [],
   "source": [
    "# Using lambda to a string\n",
    "\n",
    "string = 'Dan has 3 snails. Mike has 4 cats. Alisa has 9 monkeys.'\n"
   ]
  },
  {
   "cell_type": "code",
   "execution_count": 179,
   "metadata": {},
   "outputs": [
    {
     "data": {
      "text/plain": [
       "'3'"
      ]
     },
     "execution_count": 179,
     "metadata": {},
     "output_type": "execute_result"
    }
   ],
   "source": [
    "re.search('(\\d+)', string).group()"
   ]
  },
  {
   "cell_type": "code",
   "execution_count": 180,
   "metadata": {},
   "outputs": [
    {
     "data": {
      "text/plain": [
       "['3', '4', '9']"
      ]
     },
     "execution_count": 180,
     "metadata": {},
     "output_type": "execute_result"
    }
   ],
   "source": [
    "re.findall('(\\d+)', string)"
   ]
  },
  {
   "cell_type": "code",
   "execution_count": 183,
   "metadata": {},
   "outputs": [
    {
     "data": {
      "text/plain": [
       "'Dan has 1 snails. Mike has 1 cats. Alisa has 1 monkeys.'"
      ]
     },
     "execution_count": 183,
     "metadata": {},
     "output_type": "execute_result"
    }
   ],
   "source": [
    "re.sub('(\\d+)', '1', string)  # Here the numbers replaced by 1."
   ]
  },
  {
   "cell_type": "code",
   "execution_count": 185,
   "metadata": {},
   "outputs": [
    {
     "data": {
      "text/plain": [
       "'Dan has 9 snails. Mike has 16 cats. Alisa has 81 monkeys.'"
      ]
     },
     "execution_count": 185,
     "metadata": {},
     "output_type": "execute_result"
    }
   ],
   "source": [
    "# Example:\n",
    "\n",
    "# Get the square of the numbers in the string and replace with it. \n",
    "\n",
    "re.sub('(\\d+)', lambda x : str(square(int(x.group(0)))), string)\n",
    "\n",
    "# The numbers get squared.\n",
    "\n",
    "#Step 1 : lambda x : x.group; \"x\" is a match object\n",
    "#Step 2 : turn the result into int\n",
    "#Step 3 : Use Square function\n",
    "#Step 4 : turn back to string"
   ]
  },
  {
   "cell_type": "code",
   "execution_count": 188,
   "metadata": {},
   "outputs": [
    {
     "name": "stdout",
     "output_type": "stream",
     "text": [
      "eating laughing sleeping studying\n"
     ]
    }
   ],
   "source": [
    "# Example:\n",
    "\n",
    "# Use lambda to add \"ing\" to all words\n",
    "# m = match object\n",
    "\n",
    "import re\n",
    "\n",
    "input = \"eat laugh sleep study\"   # The input string\n",
    "\n",
    "result = re.sub(\"\\w+\", lambda m : m.group() + \"ing\", input)\n",
    "\n",
    "print(result)   # Display output"
   ]
  },
  {
   "cell_type": "markdown",
   "metadata": {},
   "source": [
    "### Backreferencing with subs"
   ]
  },
  {
   "cell_type": "code",
   "execution_count": 189,
   "metadata": {},
   "outputs": [],
   "source": [
    "string = 'Merry Merry Christmas'"
   ]
  },
  {
   "cell_type": "code",
   "execution_count": 191,
   "metadata": {},
   "outputs": [
    {
     "data": {
      "text/plain": [
       "('Merry ', 'Merry ')"
      ]
     },
     "execution_count": 191,
     "metadata": {},
     "output_type": "execute_result"
    }
   ],
   "source": [
    "# Check duplicate words using backreferencing.\n",
    "\n",
    "re.search(r'(\\w+ )(\\1)', string).groups()"
   ]
  },
  {
   "cell_type": "code",
   "execution_count": 194,
   "metadata": {},
   "outputs": [
    {
     "data": {
      "text/plain": [
       "('Merry ', 'Merry ')"
      ]
     },
     "execution_count": 194,
     "metadata": {},
     "output_type": "execute_result"
    }
   ],
   "source": [
    "re.search(r'(\\w+ )(\\1)', string).group(1,2)"
   ]
  },
  {
   "cell_type": "raw",
   "metadata": {},
   "source": [
    "Backreferencing example with sub"
   ]
  },
  {
   "cell_type": "code",
   "execution_count": 196,
   "metadata": {},
   "outputs": [
    {
     "data": {
      "text/plain": [
       "'Happy Merry Christmas'"
      ]
     },
     "execution_count": 196,
     "metadata": {},
     "output_type": "execute_result"
    }
   ],
   "source": [
    "# Replace first \"Merry\" with \"Happy\"\n",
    "\n",
    "re.sub(r'(\\w+) (\\1)', r'Happy \\1', string)   # \\1 = Merry"
   ]
  },
  {
   "cell_type": "code",
   "execution_count": 198,
   "metadata": {},
   "outputs": [
    {
     "data": {
      "text/plain": [
       "'Merry Happy Christmas'"
      ]
     },
     "execution_count": 198,
     "metadata": {},
     "output_type": "execute_result"
    }
   ],
   "source": [
    "# Replace second \"Merry\" with \"Happy\"\n",
    "\n",
    "re.sub(r'(\\w+) (\\1)', r'\\1 Happy', string)"
   ]
  },
  {
   "cell_type": "code",
   "execution_count": 199,
   "metadata": {},
   "outputs": [
    {
     "data": {
      "text/plain": [
       "'Happy Merry Christmas'"
      ]
     },
     "execution_count": 199,
     "metadata": {},
     "output_type": "execute_result"
    }
   ],
   "source": [
    "re.sub(r'(\\w+) (\\1)', r'Happy \\2', string)"
   ]
  },
  {
   "cell_type": "markdown",
   "metadata": {},
   "source": [
    "## \\b meta character"
   ]
  },
  {
   "cell_type": "raw",
   "metadata": {},
   "source": [
    "# \\b is called 'boundary' and allows you to isolate words.\n",
    "- is similar to ^ and $ (location and no consumption)"
   ]
  },
  {
   "cell_type": "code",
   "execution_count": 200,
   "metadata": {},
   "outputs": [],
   "source": [
    "import re\n",
    "string = 'cat catherine catholic wildcat copycat uncatchable'"
   ]
  },
  {
   "cell_type": "code",
   "execution_count": 203,
   "metadata": {},
   "outputs": [
    {
     "data": {
      "text/plain": [
       "['cat', 'cat', 'cat', 'cat', 'cat', 'cat']"
      ]
     },
     "execution_count": 203,
     "metadata": {},
     "output_type": "execute_result"
    }
   ],
   "source": [
    "# It just looks for the word \"cat\" in the instances rather than the whole word.\n",
    "\n",
    "pattern = re.compile('cat')\n",
    "re.findall(pattern, string)"
   ]
  },
  {
   "cell_type": "code",
   "execution_count": 205,
   "metadata": {},
   "outputs": [
    {
     "data": {
      "text/plain": [
       "['cat ', 'cat ', 'cat ']"
      ]
     },
     "execution_count": 205,
     "metadata": {},
     "output_type": "execute_result"
    }
   ],
   "source": [
    "# Using Space(cat )\n",
    "\n",
    "string = 'cat catherine catholic wildcat copycat uncatchable'\n",
    "pattern = re.compile('cat ')\n",
    "re.findall(pattern, string)\n",
    "\n",
    "# It just pull out the words with \"cat \" and eliminate all the words without spaces."
   ]
  },
  {
   "cell_type": "code",
   "execution_count": 206,
   "metadata": {},
   "outputs": [
    {
     "data": {
      "text/plain": [
       "['cat']"
      ]
     },
     "execution_count": 206,
     "metadata": {},
     "output_type": "execute_result"
    }
   ],
   "source": [
    "# Only pull out cat with boundary\n",
    "\n",
    "string = 'cat catherine catholic wildcat copycat uncatchable'\n",
    "pattern = re.compile(r'\\bcat\\b')\n",
    "re.findall(pattern, string)"
   ]
  },
  {
   "cell_type": "markdown",
   "metadata": {},
   "source": [
    "### Word boundaries nuances"
   ]
  },
  {
   "cell_type": "raw",
   "metadata": {},
   "source": [
    "Be careful with periods(dots) and non-alphanumeric characters\n",
    "\\w = [A-Za-z0-9_] (Alphanumeric characters)\n",
    "\\W = +:@^% (non-alphanumeric characters)"
   ]
  },
  {
   "cell_type": "code",
   "execution_count": 207,
   "metadata": {},
   "outputs": [
    {
     "data": {
      "text/plain": [
       "['cat']"
      ]
     },
     "execution_count": 207,
     "metadata": {},
     "output_type": "execute_result"
    }
   ],
   "source": [
    "# Here the word boundarieds make sure that there is a character in the right and in the left there is a non-alphanumeric character.\n",
    "# Space is also consider as an alphanumeric character.\n",
    "\n",
    "string = '.cat catherine catholic wildcat copycat uncatchable'\n",
    "pattern = re.compile(r'\\bcat\\b')\n",
    "re.findall(pattern, string)"
   ]
  },
  {
   "cell_type": "code",
   "execution_count": 208,
   "metadata": {},
   "outputs": [
    {
     "data": {
      "text/plain": [
       "['cat', 'cat']"
      ]
     },
     "execution_count": 208,
     "metadata": {},
     "output_type": "execute_result"
    }
   ],
   "source": [
    "# Example:\n",
    "\n",
    "string = '@cat cat catherine catholic wildcat copycat uncatchable'\n",
    "pattern = re.compile(r'\\bcat\\b')\n",
    "re.findall(pattern, string)\n",
    "\n",
    "@ = also alphanumeric character"
   ]
  },
  {
   "cell_type": "raw",
   "metadata": {},
   "source": [
    "\\b = Check whether one side is alphanumeric and the other is non-alphanumeric.\n",
    "\\B = Check the both sides are alphanumeric or non-alphanumeric."
   ]
  },
  {
   "cell_type": "code",
   "execution_count": 223,
   "metadata": {},
   "outputs": [
    {
     "data": {
      "text/plain": [
       "[]"
      ]
     },
     "execution_count": 223,
     "metadata": {},
     "output_type": "execute_result"
    }
   ],
   "source": [
    "# Example: Twitter examples, Twitter handles\n",
    "\n",
    "string = '@moondra2017.org'\n",
    "string2 = '@moondra'\n",
    "string3 = 'Python@moondra'\n",
    "string4 = '@moondra_python'\n",
    "\n",
    "# We only want @moondra and @moondra_python(string 2 & string 4)\n",
    "\n",
    "pattern = re.compile(r'\\B@[\\w]+$')\n",
    "re.findall(pattern,string)"
   ]
  },
  {
   "cell_type": "code",
   "execution_count": 224,
   "metadata": {},
   "outputs": [
    {
     "data": {
      "text/plain": [
       "['@moondra']"
      ]
     },
     "execution_count": 224,
     "metadata": {},
     "output_type": "execute_result"
    }
   ],
   "source": [
    "pattern = re.compile(r'\\B@[\\w]+$')\n",
    "re.findall(pattern,string2)"
   ]
  },
  {
   "cell_type": "code",
   "execution_count": 225,
   "metadata": {},
   "outputs": [
    {
     "data": {
      "text/plain": [
       "[]"
      ]
     },
     "execution_count": 225,
     "metadata": {},
     "output_type": "execute_result"
    }
   ],
   "source": [
    "pattern = re.compile(r'\\B@[\\w]+$')\n",
    "re.findall(pattern,string3)"
   ]
  },
  {
   "cell_type": "code",
   "execution_count": 226,
   "metadata": {},
   "outputs": [
    {
     "data": {
      "text/plain": [
       "['@moondra_python']"
      ]
     },
     "execution_count": 226,
     "metadata": {},
     "output_type": "execute_result"
    }
   ],
   "source": [
    "pattern = re.compile(r'\\B@[\\w]+$')\n",
    "re.findall(pattern,string4)"
   ]
  },
  {
   "cell_type": "code",
   "execution_count": 227,
   "metadata": {},
   "outputs": [
    {
     "data": {
      "text/plain": [
       "[]"
      ]
     },
     "execution_count": 227,
     "metadata": {},
     "output_type": "execute_result"
    }
   ],
   "source": [
    "# using Negative look around\n",
    "\n",
    "string = '@moondra2017.org'\n",
    "string2 = '@moondra'\n",
    "string3 = 'Python@moondra'\n",
    "string4 = '@moondra_python'\n",
    "\n",
    "# We only want @moondra and @moondra_python(string 2 & string 4)\n",
    "\n",
    "pattern = re.compile(r'\\B@[\\w]+\\b(?!\\.)')\n",
    "re.findall(pattern,string)\n",
    "\n",
    "# Eliminate all the id's having \".org/.com/.gmail\" etc only get the valuable datas."
   ]
  },
  {
   "cell_type": "code",
   "execution_count": 229,
   "metadata": {},
   "outputs": [
    {
     "data": {
      "text/plain": [
       "['@moondra']"
      ]
     },
     "execution_count": 229,
     "metadata": {},
     "output_type": "execute_result"
    }
   ],
   "source": [
    "pattern = re.compile(r'\\B@[\\w]+\\b(?!\\.)')\n",
    "re.findall(pattern,string2)"
   ]
  },
  {
   "cell_type": "code",
   "execution_count": 230,
   "metadata": {},
   "outputs": [
    {
     "data": {
      "text/plain": [
       "[]"
      ]
     },
     "execution_count": 230,
     "metadata": {},
     "output_type": "execute_result"
    }
   ],
   "source": [
    "pattern = re.compile(r'\\B@[\\w]+\\b(?!\\.)')\n",
    "re.findall(pattern,string3)"
   ]
  },
  {
   "cell_type": "code",
   "execution_count": 231,
   "metadata": {},
   "outputs": [
    {
     "data": {
      "text/plain": [
       "['@moondra_python']"
      ]
     },
     "execution_count": 231,
     "metadata": {},
     "output_type": "execute_result"
    }
   ],
   "source": [
    "pattern = re.compile(r'\\B@[\\w]+\\b(?!\\.)')\n",
    "re.findall(pattern,string4)"
   ]
  },
  {
   "cell_type": "markdown",
   "metadata": {},
   "source": [
    "## Look Arounds"
   ]
  },
  {
   "cell_type": "code",
   "execution_count": null,
   "metadata": {},
   "outputs": [],
   "source": []
  }
 ],
 "metadata": {
  "kernelspec": {
   "display_name": "Python 3",
   "language": "python",
   "name": "python3"
  },
  "language_info": {
   "codemirror_mode": {
    "name": "ipython",
    "version": 3
   },
   "file_extension": ".py",
   "mimetype": "text/x-python",
   "name": "python",
   "nbconvert_exporter": "python",
   "pygments_lexer": "ipython3",
   "version": "3.8.3"
  }
 },
 "nbformat": 4,
 "nbformat_minor": 4
}
